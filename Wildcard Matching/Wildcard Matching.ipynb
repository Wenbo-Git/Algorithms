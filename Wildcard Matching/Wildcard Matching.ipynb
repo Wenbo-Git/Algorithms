{
 "cells": [
  {
   "cell_type": "markdown",
   "metadata": {},
   "source": [
    "#### https://leetcode.com/problems/wildcard-matching"
   ]
  },
  {
   "cell_type": "code",
   "execution_count": 1,
   "metadata": {},
   "outputs": [],
   "source": [
    "class Solution:\n",
    "    # table[(s, p)] = True: p matches with s\n",
    "    table = {}\n",
    "    \n",
    "    # *****abc => *abc\n",
    "    def trim_leading_wildcards(self, p):\n",
    "        if p != \"\" and p[0] == \"*\":\n",
    "            count = 0\n",
    "            for i in range(1, len(p)):\n",
    "                if p[i] == \"*\":\n",
    "                    count += 1\n",
    "                else:\n",
    "                    break\n",
    "            p = p[count:]\n",
    "        return p\n",
    "    \n",
    "    def isMatch(self, s: str, p: str):\n",
    "        if (s, p) in self.table:\n",
    "            return self.table[(s, p)]\n",
    "        p = self.trim_leading_wildcards(p)\n",
    "        if p == \"*\":\n",
    "            self.table[(s, p)] = True\n",
    "        elif p == \"\":\n",
    "            self.table[(s, p)] = True if s == \"\" else False\n",
    "        elif p != \"\" and s == \"\":\n",
    "            self.table[(s, p)] = False\n",
    "        elif p[0] == s[0] or p[0] == \"?\":\n",
    "            self.table[(s, p)] = self.isMatch(s[1:], p[1:])\n",
    "        elif p[0] == \"*\":\n",
    "            # s: X|X X X\n",
    "            # p: *|X X X\n",
    "            self.table[(s, p)] = self.isMatch(s, p[1:]) or self.isMatch(s[1:], p)\n",
    "        else:\n",
    "            self.table[(s, p)] = False\n",
    "        return self.table[(s, p)]"
   ]
  },
  {
   "cell_type": "code",
   "execution_count": 2,
   "metadata": {},
   "outputs": [
    {
     "data": {
      "text/plain": [
       "False"
      ]
     },
     "execution_count": 2,
     "metadata": {},
     "output_type": "execute_result"
    }
   ],
   "source": [
    "Solution().isMatch(\"aa\", \"a\")"
   ]
  }
 ],
 "metadata": {
  "kernelspec": {
   "display_name": "Python 3",
   "language": "python",
   "name": "python3"
  },
  "language_info": {
   "codemirror_mode": {
    "name": "ipython",
    "version": 3
   },
   "file_extension": ".py",
   "mimetype": "text/x-python",
   "name": "python",
   "nbconvert_exporter": "python",
   "pygments_lexer": "ipython3",
   "version": "3.7.4"
  }
 },
 "nbformat": 4,
 "nbformat_minor": 2
}
