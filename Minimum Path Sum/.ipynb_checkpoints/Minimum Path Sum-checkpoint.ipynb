{
 "cells": [
  {
   "cell_type": "markdown",
   "metadata": {},
   "source": [
    "#### https://leetcode.com/problems/minimum-path-sum"
   ]
  },
  {
   "cell_type": "code",
   "execution_count": 1,
   "metadata": {},
   "outputs": [],
   "source": [
    "class Solution:\n",
    "    def minPathSum(self, grid) -> int:\n",
    "        if not grid:\n",
    "            return 0\n",
    "        m, n = len(grid), len(grid[0])\n",
    "        dp = [[0] * n for _ in range(m)]\n",
    "        for i in range(m - 1, -1, -1):\n",
    "            for j in range(n - 1, -1 , -1):\n",
    "                if i == m -1 and j == n -1:\n",
    "                    dp[i][j] = grid[i][j]\n",
    "                elif i == m - 1:\n",
    "                    dp[i][j] = grid[i][j] + dp[i][j + 1]\n",
    "                elif j == n - 1:\n",
    "                    dp[i][j] = grid[i][j] + dp[i + 1][j]\n",
    "                else:\n",
    "                    dp[i][j] = grid[i][j] + min(dp[i + 1][j], dp[i][j + 1])\n",
    "        return dp[0][0]"
   ]
  },
  {
   "cell_type": "code",
   "execution_count": 2,
   "metadata": {},
   "outputs": [
    {
     "data": {
      "text/plain": [
       "7"
      ]
     },
     "execution_count": 2,
     "metadata": {},
     "output_type": "execute_result"
    }
   ],
   "source": [
    "Solution().minPathSum([[1,3,1],[1,5,1],[4,2,1]])"
   ]
  }
 ],
 "metadata": {
  "kernelspec": {
   "display_name": "Python 3",
   "language": "python",
   "name": "python3"
  },
  "language_info": {
   "codemirror_mode": {
    "name": "ipython",
    "version": 3
   },
   "file_extension": ".py",
   "mimetype": "text/x-python",
   "name": "python",
   "nbconvert_exporter": "python",
   "pygments_lexer": "ipython3",
   "version": "3.7.4"
  }
 },
 "nbformat": 4,
 "nbformat_minor": 2
}
