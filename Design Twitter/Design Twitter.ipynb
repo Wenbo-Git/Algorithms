{
 "cells": [
  {
   "cell_type": "markdown",
   "metadata": {},
   "source": [
    "#### https://leetcode.com/problems/design-twitter"
   ]
  },
  {
   "cell_type": "code",
   "execution_count": 8,
   "metadata": {},
   "outputs": [],
   "source": [
    "import time\n",
    "from operator import itemgetter\n",
    "class Twitter:\n",
    "    def __init__(self):\n",
    "        \"\"\"\n",
    "        Initialize your data structure here.\n",
    "        \"\"\"\n",
    "        self.tweets = {}\n",
    "        self.follows = {}\n",
    "        \n",
    "    def postTweet(self, userId: int, tweetId: int) -> None:\n",
    "        \"\"\"\n",
    "        Compose a new tweet.\n",
    "        \"\"\"\n",
    "        if userId not in self.tweets:\n",
    "            self.tweets[userId] = [(time.time(), tweetId)]\n",
    "        else:\n",
    "            self.tweets[userId].append((time.time(), tweetId))\n",
    "\n",
    "    def getNewsFeed(self, userId: int):\n",
    "        \"\"\"\n",
    "        Retrieve the 10 most recent tweet ids in the user's news feed. Each item in the news feed must be posted by users who the user followed or by the user herself. Tweets must be ordered from most recent to least recent.\n",
    "        \"\"\"\n",
    "        posters = {userId}\n",
    "        if userId in self.follows:\n",
    "            for follower in self.follows[userId]:\n",
    "                posters.add(follower)\n",
    "        tweets = []\n",
    "        for poster in posters:\n",
    "            if poster in self.tweets:\n",
    "                tweets += self.tweets[poster]\n",
    "        tweets.sort(key = itemgetter(0), reverse = True)\n",
    "        ret = []\n",
    "        for tweet in tweets:\n",
    "            ret.append(tweet[1])\n",
    "        if len(ret) <= 10:\n",
    "            return ret\n",
    "        else:\n",
    "            return ret[0:10]\n",
    "            \n",
    "    def follow(self, followerId: int, followeeId: int) -> None:\n",
    "        \"\"\"\n",
    "        Follower follows a followee. If the operation is invalid, it should be a no-op.\n",
    "        \"\"\"\n",
    "        if followerId not in self.follows:\n",
    "            self.follows[followerId] = {followeeId}\n",
    "        else:\n",
    "            self.follows[followerId].add(followeeId)\n",
    "\n",
    "    def unfollow(self, followerId: int, followeeId: int) -> None:\n",
    "        \"\"\"\n",
    "        Follower unfollows a followee. If the operation is invalid, it should be a no-op.\n",
    "        \"\"\"\n",
    "        if followerId in self.follows:\n",
    "            self.follows[followerId].discard(followeeId)"
   ]
  },
  {
   "cell_type": "code",
   "execution_count": 9,
   "metadata": {},
   "outputs": [
    {
     "name": "stdout",
     "output_type": "stream",
     "text": [
      "[5]\n",
      "[5, 6]\n",
      "[5]\n"
     ]
    }
   ],
   "source": [
    "t = Twitter()\n",
    "t.postTweet(1, 5)\n",
    "print(t.getNewsFeed(1))\n",
    "t.follow(1, 2)\n",
    "t.postTweet(2, 6)\n",
    "print(t.getNewsFeed(1))\n",
    "t.unfollow(1, 2)\n",
    "print(t.getNewsFeed(1))"
   ]
  }
 ],
 "metadata": {
  "kernelspec": {
   "display_name": "Python 3",
   "language": "python",
   "name": "python3"
  },
  "language_info": {
   "codemirror_mode": {
    "name": "ipython",
    "version": 3
   },
   "file_extension": ".py",
   "mimetype": "text/x-python",
   "name": "python",
   "nbconvert_exporter": "python",
   "pygments_lexer": "ipython3",
   "version": "3.7.4"
  }
 },
 "nbformat": 4,
 "nbformat_minor": 2
}
