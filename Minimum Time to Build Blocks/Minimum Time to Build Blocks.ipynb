{
 "cells": [
  {
   "cell_type": "markdown",
   "metadata": {},
   "source": [
    "#### https://leetcode.com/problems/minimum-time-to-build-blocks"
   ]
  },
  {
   "cell_type": "code",
   "execution_count": 2,
   "metadata": {},
   "outputs": [],
   "source": [
    "class Solution:\n",
    "    def minBuildTime(self, blocks, split) -> int:\n",
    "        blocks.sort()\n",
    "        n = len(blocks)\n",
    "        dp = [[0 for _ in range(n)] for _ in range(n)]\n",
    "        def find_min(blocks, i, workers, split):\n",
    "            if i == -1:\n",
    "                return 0\n",
    "            elif workers == 0:\n",
    "                return 200000\n",
    "            elif i < workers:\n",
    "                return blocks[i]\n",
    "            elif dp[i][workers - 1] != 0:\n",
    "                return dp[i][workers - 1]\n",
    "            else:\n",
    "                min_split = split + find_min(blocks, i, workers * 2, split)\n",
    "                min_no_split = max(blocks[i], find_min(blocks, i-1, workers-1, split))\n",
    "                dp[i][workers - 1] = min(min_split, min_no_split)\n",
    "                return dp[i][workers - 1]\n",
    "        return find_min(blocks, n-1, 1, split)\n",
    "        \n",
    "        ### This solution will not cause time-limit-exceeded error. It is from: ###\n",
    "        ### https://leetcode.com/problems/minimum-time-to-build-blocks/discuss/387035/Python%3A-O(n-log-n)-using-Huffman's-Algorithm-(priority-queue)-with-explanation.###\n",
    "        '''\n",
    "        heapq.heapify(blocks)\n",
    "        while len(blocks) > 1:\n",
    "            block_1 = heapq.heappop(blocks)\n",
    "            block_2 = heapq.heappop(blocks)\n",
    "            new_block = max(block_1, block_2) + split\n",
    "            heapq.heappush(blocks, new_block)\n",
    "        return blocks[0]\n",
    "        '''"
   ]
  },
  {
   "cell_type": "code",
   "execution_count": 4,
   "metadata": {},
   "outputs": [
    {
     "data": {
      "text/plain": [
       "1"
      ]
     },
     "execution_count": 4,
     "metadata": {},
     "output_type": "execute_result"
    }
   ],
   "source": [
    "Solution().minBuildTime([1], 1)"
   ]
  }
 ],
 "metadata": {
  "kernelspec": {
   "display_name": "Python 3",
   "language": "python",
   "name": "python3"
  },
  "language_info": {
   "codemirror_mode": {
    "name": "ipython",
    "version": 3
   },
   "file_extension": ".py",
   "mimetype": "text/x-python",
   "name": "python",
   "nbconvert_exporter": "python",
   "pygments_lexer": "ipython3",
   "version": "3.7.4"
  }
 },
 "nbformat": 4,
 "nbformat_minor": 2
}
