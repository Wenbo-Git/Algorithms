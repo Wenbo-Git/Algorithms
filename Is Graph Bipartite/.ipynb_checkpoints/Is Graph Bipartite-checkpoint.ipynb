{
 "cells": [
  {
   "cell_type": "markdown",
   "metadata": {},
   "source": [
    "#### https://leetcode.com/problems/is-graph-bipartite"
   ]
  },
  {
   "cell_type": "code",
   "execution_count": 3,
   "metadata": {},
   "outputs": [],
   "source": [
    "class Solution:\n",
    "    def isBipartite(self, graph):\n",
    "        groups = {}\n",
    "        \n",
    "        def dfs(node):\n",
    "            for neighbor in graph[node]:\n",
    "                if neighbor in groups:\n",
    "                    if groups[neighbor] == groups[node]:\n",
    "                        return False\n",
    "                else:\n",
    "                    groups[neighbor] = \"B\" if groups[node] == \"A\" else \"A\"\n",
    "                    if not dfs(neighbor):\n",
    "                        return False\n",
    "            return True\n",
    "        \n",
    "        for i in range(len(graph)):\n",
    "            if i not in groups:\n",
    "                groups[i] = \"A\"\n",
    "                if not dfs(i):\n",
    "                    return False\n",
    "        \n",
    "        return True"
   ]
  },
  {
   "cell_type": "code",
   "execution_count": 4,
   "metadata": {},
   "outputs": [
    {
     "name": "stdout",
     "output_type": "stream",
     "text": [
      "True\n"
     ]
    }
   ],
   "source": [
    "print(Solution().isBipartite([[1,3],[0,2],[1,3],[0,2]]))"
   ]
  }
 ],
 "metadata": {
  "kernelspec": {
   "display_name": "Python 3",
   "language": "python",
   "name": "python3"
  },
  "language_info": {
   "codemirror_mode": {
    "name": "ipython",
    "version": 3
   },
   "file_extension": ".py",
   "mimetype": "text/x-python",
   "name": "python",
   "nbconvert_exporter": "python",
   "pygments_lexer": "ipython3",
   "version": "3.7.4"
  }
 },
 "nbformat": 4,
 "nbformat_minor": 2
}
