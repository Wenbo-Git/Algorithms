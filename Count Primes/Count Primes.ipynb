{
 "cells": [
  {
   "cell_type": "markdown",
   "metadata": {},
   "source": [
    "#### https://leetcode.com/problems/count-primes"
   ]
  },
  {
   "cell_type": "code",
   "execution_count": 1,
   "metadata": {},
   "outputs": [],
   "source": [
    "import math\n",
    "\n",
    "class Solution:\n",
    "    def countPrimes(self, n: int) -> int:\n",
    "        if n < 3: return 0\n",
    "        count = 1 # 2 is prime\n",
    "        for i in range(3, n, 2): # only test odd numbers\n",
    "            sqrt_i = math.floor(math.sqrt(i))\n",
    "            is_prime = True\n",
    "            for j in range(2, sqrt_i + 1):\n",
    "                if i % j == 0:\n",
    "                    is_prime = False\n",
    "                    break\n",
    "            if is_prime is True:\n",
    "                count += 1\n",
    "        return count\n",
    "    \n",
    "    ### This solution does not cause TLE. It is from: ###\n",
    "    ### https://leetcode.com/problems/count-primes/discuss/379169/Python-different-solutions ###\n",
    "    '''\n",
    "    def countPrimes(self, n: int) -> int:\n",
    "        Primes = [0,0]+[1]*(n-2)\n",
    "        for i in range(2,n//2+1):\n",
    "            for j in range(i*2,n,i):\n",
    "                Primes[j] = 0\n",
    "        return sum(Primes)\n",
    "    '''"
   ]
  },
  {
   "cell_type": "code",
   "execution_count": 2,
   "metadata": {},
   "outputs": [
    {
     "name": "stdout",
     "output_type": "stream",
     "text": [
      "4\n"
     ]
    }
   ],
   "source": [
    "print(Solution().countPrimes(10))"
   ]
  }
 ],
 "metadata": {
  "kernelspec": {
   "display_name": "Python 3",
   "language": "python",
   "name": "python3"
  },
  "language_info": {
   "codemirror_mode": {
    "name": "ipython",
    "version": 3
   },
   "file_extension": ".py",
   "mimetype": "text/x-python",
   "name": "python",
   "nbconvert_exporter": "python",
   "pygments_lexer": "ipython3",
   "version": "3.7.4"
  }
 },
 "nbformat": 4,
 "nbformat_minor": 2
}
