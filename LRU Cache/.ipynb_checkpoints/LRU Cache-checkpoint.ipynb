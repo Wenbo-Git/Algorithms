{
 "cells": [
  {
   "cell_type": "markdown",
   "metadata": {},
   "source": [
    "#### https://leetcode.com/problems/lru-cache"
   ]
  },
  {
   "cell_type": "code",
   "execution_count": 3,
   "metadata": {},
   "outputs": [],
   "source": [
    "from collections import OrderedDict\n",
    "class LRUCache:\n",
    "    def __init__(self, capacity: int):\n",
    "        self.capacity = capacity\n",
    "        self.queue = OrderedDict()   \n",
    "\n",
    "    def get(self, key: int) -> int:\n",
    "        ret = -1\n",
    "        if key in self.queue:\n",
    "            ret = self.queue.pop(key)\n",
    "            self.queue[key] = ret\n",
    "        return ret\n",
    "\n",
    "    def put(self, key: int, value: int) -> None:\n",
    "        if key in self.queue:\n",
    "            self.queue.pop(key)\n",
    "        elif len(self.queue) == self.capacity:\n",
    "            self.queue.popitem(last = False)\n",
    "        self.queue[key] = value"
   ]
  },
  {
   "cell_type": "code",
   "execution_count": 7,
   "metadata": {},
   "outputs": [
    {
     "name": "stdout",
     "output_type": "stream",
     "text": [
      "1\n",
      "-1\n",
      "-1\n",
      "3\n",
      "4\n"
     ]
    }
   ],
   "source": [
    "c = LRUCache(2)\n",
    "c.put(1, 1)\n",
    "c.put(2, 2)\n",
    "print(c.get(1))\n",
    "c.put(3, 3)\n",
    "print(c.get(2))\n",
    "c.put(4, 4)\n",
    "print(c.get(1))\n",
    "print(c.get(3))\n",
    "print(c.get(4))"
   ]
  }
 ],
 "metadata": {
  "kernelspec": {
   "display_name": "Python 3",
   "language": "python",
   "name": "python3"
  },
  "language_info": {
   "codemirror_mode": {
    "name": "ipython",
    "version": 3
   },
   "file_extension": ".py",
   "mimetype": "text/x-python",
   "name": "python",
   "nbconvert_exporter": "python",
   "pygments_lexer": "ipython3",
   "version": "3.7.4"
  }
 },
 "nbformat": 4,
 "nbformat_minor": 2
}
