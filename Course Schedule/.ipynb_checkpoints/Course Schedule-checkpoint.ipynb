{
 "cells": [
  {
   "cell_type": "markdown",
   "metadata": {},
   "source": [
    "#### https://leetcode.com/problems/course-schedule"
   ]
  },
  {
   "cell_type": "code",
   "execution_count": 2,
   "metadata": {},
   "outputs": [],
   "source": [
    "class Solution:\n",
    "    def canFinish(self, numCourses, prerequisites):\n",
    "        Courses, Pres = {}, {}\n",
    "        for course, pre in prerequisites:\n",
    "            if course not in Courses:\n",
    "                Courses[course] = set()\n",
    "            Courses[course].add(pre)\n",
    "            if pre not in Pres:\n",
    "                Pres[pre] = set()\n",
    "            Pres[pre].add(course)\n",
    "        \n",
    "        queue = []\n",
    "        for i in range(numCourses):\n",
    "            if i not in Courses:\n",
    "                queue.append(i)\n",
    "        \n",
    "        count = 0\n",
    "        while queue:\n",
    "            pre = queue.pop(0)\n",
    "            count += 1\n",
    "            if pre in Pres:\n",
    "                for course in Pres[pre]:\n",
    "                    Courses[course].remove(pre)\n",
    "                    if not Courses[course]:\n",
    "                        queue.append(course)\n",
    "                    \n",
    "        return True if count == numCourses else False "
   ]
  },
  {
   "cell_type": "code",
   "execution_count": 3,
   "metadata": {},
   "outputs": [
    {
     "name": "stdout",
     "output_type": "stream",
     "text": [
      "True\n"
     ]
    }
   ],
   "source": [
    "print(Solution().canFinish(2, [[1,0]]))"
   ]
  }
 ],
 "metadata": {
  "kernelspec": {
   "display_name": "Python 3",
   "language": "python",
   "name": "python3"
  },
  "language_info": {
   "codemirror_mode": {
    "name": "ipython",
    "version": 3
   },
   "file_extension": ".py",
   "mimetype": "text/x-python",
   "name": "python",
   "nbconvert_exporter": "python",
   "pygments_lexer": "ipython3",
   "version": "3.7.4"
  }
 },
 "nbformat": 4,
 "nbformat_minor": 2
}
