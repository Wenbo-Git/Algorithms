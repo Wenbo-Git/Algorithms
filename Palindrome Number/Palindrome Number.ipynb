{
 "cells": [
  {
   "cell_type": "markdown",
   "metadata": {},
   "source": [
    "#### https://leetcode.com/problems/palindrome-number"
   ]
  },
  {
   "cell_type": "code",
   "execution_count": 1,
   "metadata": {},
   "outputs": [],
   "source": [
    "class Solution:\n",
    "    def isPalindromeHelper(self, x):\n",
    "        if len(x) == 1:\n",
    "            return True\n",
    "        elif x[0] == x[-1]:\n",
    "            if len(x) == 2:\n",
    "                return True\n",
    "            else:\n",
    "                return self.isPalindromeHelper(x[1:-1])\n",
    "        else:\n",
    "            return False\n",
    "    \n",
    "    def isPalindrome(self, x: int) -> bool:\n",
    "        x_str = str(x)\n",
    "        x_list_chr = []\n",
    "        for char in x_str:\n",
    "            x_list_chr.append(char)\n",
    "        return self.isPalindromeHelper(x_list_chr)"
   ]
  },
  {
   "cell_type": "code",
   "execution_count": 2,
   "metadata": {},
   "outputs": [
    {
     "data": {
      "text/plain": [
       "True"
      ]
     },
     "execution_count": 2,
     "metadata": {},
     "output_type": "execute_result"
    }
   ],
   "source": [
    "Solution().isPalindrome(12321)"
   ]
  }
 ],
 "metadata": {
  "kernelspec": {
   "display_name": "Python 3",
   "language": "python",
   "name": "python3"
  },
  "language_info": {
   "codemirror_mode": {
    "name": "ipython",
    "version": 3
   },
   "file_extension": ".py",
   "mimetype": "text/x-python",
   "name": "python",
   "nbconvert_exporter": "python",
   "pygments_lexer": "ipython3",
   "version": "3.7.4"
  }
 },
 "nbformat": 4,
 "nbformat_minor": 2
}
