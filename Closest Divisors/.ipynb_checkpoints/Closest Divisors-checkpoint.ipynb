{
 "cells": [
  {
   "cell_type": "markdown",
   "metadata": {},
   "source": [
    "#### https://leetcode.com/problems/closest-divisors"
   ]
  },
  {
   "cell_type": "code",
   "execution_count": 2,
   "metadata": {},
   "outputs": [],
   "source": [
    "import math\n",
    "class Solution:\n",
    "    def closestDivisors(self, num):\n",
    "        def find_divisors(num):\n",
    "            ret = []\n",
    "            for i in range(1, math.ceil(math.sqrt(num)) + 1):\n",
    "                if num % i == 0:\n",
    "                    ret.append((i, abs(i - num/i)))\n",
    "            return ret\n",
    "        \n",
    "        ret1 = sorted(find_divisors(num + 1), key=lambda x: x[1])\n",
    "        ret2 = sorted(find_divisors(num + 2), key=lambda x: x[1])\n",
    "        \n",
    "        if ret1[0][1] <= ret2[0][1]:\n",
    "            return [ret1[0][0], int((num + 1)/ret1[0][0])]\n",
    "        else:\n",
    "            return [ret2[0][0], int((num + 2)/ret2[0][0])]"
   ]
  },
  {
   "cell_type": "code",
   "execution_count": 3,
   "metadata": {},
   "outputs": [
    {
     "data": {
      "text/plain": [
       "[3, 3]"
      ]
     },
     "execution_count": 3,
     "metadata": {},
     "output_type": "execute_result"
    }
   ],
   "source": [
    "Solution().closestDivisors(8)"
   ]
  }
 ],
 "metadata": {
  "kernelspec": {
   "display_name": "Python 3",
   "language": "python",
   "name": "python3"
  },
  "language_info": {
   "codemirror_mode": {
    "name": "ipython",
    "version": 3
   },
   "file_extension": ".py",
   "mimetype": "text/x-python",
   "name": "python",
   "nbconvert_exporter": "python",
   "pygments_lexer": "ipython3",
   "version": "3.7.4"
  }
 },
 "nbformat": 4,
 "nbformat_minor": 2
}
