{
 "cells": [
  {
   "cell_type": "markdown",
   "metadata": {},
   "source": [
    "#### https://leetcode.com/problems/russian-doll-envelopes"
   ]
  },
  {
   "cell_type": "code",
   "execution_count": 1,
   "metadata": {},
   "outputs": [],
   "source": [
    "class Solution:\n",
    "    def maxEnvelopes(self, envelopes) -> int:\n",
    "        if not envelopes:\n",
    "            return 0\n",
    "        envelopes.sort()\n",
    "        n = len(envelopes)\n",
    "        dp = [1 for _ in range(n)]\n",
    "        ans = 1\n",
    "        for i in range(n):\n",
    "            for j in range(i):\n",
    "                if envelopes[i][0] > envelopes[j][0] and envelopes[i][1] > envelopes[j][1]:\n",
    "                    dp[i] = max(dp[i], dp[j] + 1)\n",
    "            ans = max(ans, dp[i])\n",
    "        return ans\n",
    "    \n",
    "    ### This solution will not cause time-limit-exceeded error ###\n",
    "    '''\n",
    "    from bisect import *\n",
    "    def maxEnvelopes(self, envelopes: List[List[int]]) -> int:\n",
    "        n = len(envelopes)\n",
    "        envelopes.sort(key = lambda x : x[1], reverse=True)\n",
    "        envelopes.sort(key = lambda x : x[0])\n",
    "        maxLen = 0\n",
    "        minTailOfSize = [0 for _ in range(n)]\n",
    "        for envelope in envelopes:\n",
    "            j = bisect_left(minTailOfSize, envelope[1], 0, maxLen)\n",
    "            minTailOfSize[j] = envelope[1]\n",
    "            if j == maxLen:\n",
    "                maxLen += 1\n",
    "        return maxLen\n",
    "    '''"
   ]
  },
  {
   "cell_type": "code",
   "execution_count": 2,
   "metadata": {},
   "outputs": [
    {
     "data": {
      "text/plain": [
       "3"
      ]
     },
     "execution_count": 2,
     "metadata": {},
     "output_type": "execute_result"
    }
   ],
   "source": [
    "Solution().maxEnvelopes([[5,4],[6,4],[6,7],[2,3]])"
   ]
  },
  {
   "cell_type": "code",
   "execution_count": null,
   "metadata": {},
   "outputs": [],
   "source": []
  }
 ],
 "metadata": {
  "kernelspec": {
   "display_name": "Python 3",
   "language": "python",
   "name": "python3"
  },
  "language_info": {
   "codemirror_mode": {
    "name": "ipython",
    "version": 3
   },
   "file_extension": ".py",
   "mimetype": "text/x-python",
   "name": "python",
   "nbconvert_exporter": "python",
   "pygments_lexer": "ipython3",
   "version": "3.7.4"
  }
 },
 "nbformat": 4,
 "nbformat_minor": 2
}
