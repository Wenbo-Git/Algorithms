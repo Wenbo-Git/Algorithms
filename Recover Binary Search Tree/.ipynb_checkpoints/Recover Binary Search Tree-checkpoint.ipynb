{
 "cells": [
  {
   "cell_type": "markdown",
   "metadata": {},
   "source": [
    "#### https://leetcode.com/problems/recover-binary-search-tree"
   ]
  },
  {
   "cell_type": "code",
   "execution_count": 1,
   "metadata": {},
   "outputs": [],
   "source": [
    "class TreeNode:\n",
    "    def __init__(self, x):\n",
    "        self.val = x\n",
    "        self.left = None\n",
    "        self.right = None\n",
    "\n",
    "class Solution:\n",
    "    def __init__(self):\n",
    "        self.queue = []\n",
    "    \n",
    "    def in_order_traversal(self, node):\n",
    "        if node is None:\n",
    "            return\n",
    "        self.in_order_traversal(node.left)\n",
    "        self.queue.append(node.val)\n",
    "        self.in_order_traversal(node.right)\n",
    "    \n",
    "    def reconstruct_tree(self, node):\n",
    "        if node is None:\n",
    "            return\n",
    "        self.reconstruct_tree(node.left)\n",
    "        node.val = self.queue.pop(0)\n",
    "        self.reconstruct_tree(node.right)\n",
    "    \n",
    "    def recoverTree(self, root: TreeNode) -> None:\n",
    "        \"\"\"\n",
    "        Do not return anything, modify root in-place instead.\n",
    "        \"\"\"\n",
    "        self.in_order_traversal(root)\n",
    "        self.queue.sort()\n",
    "        self.reconstruct_tree(root)"
   ]
  },
  {
   "cell_type": "code",
   "execution_count": 2,
   "metadata": {},
   "outputs": [
    {
     "name": "stdout",
     "output_type": "stream",
     "text": [
      "3\n",
      "1\n",
      "2\n"
     ]
    }
   ],
   "source": [
    "n1 = TreeNode(1)\n",
    "n2 = TreeNode(3)\n",
    "n3 = TreeNode(2)\n",
    "\n",
    "n1.left = n2\n",
    "n2.right = n3\n",
    "\n",
    "Solution().recoverTree(n1)\n",
    "\n",
    "print(n1.val)\n",
    "print(n2.val)\n",
    "print(n3.val)"
   ]
  }
 ],
 "metadata": {
  "kernelspec": {
   "display_name": "Python 3",
   "language": "python",
   "name": "python3"
  },
  "language_info": {
   "codemirror_mode": {
    "name": "ipython",
    "version": 3
   },
   "file_extension": ".py",
   "mimetype": "text/x-python",
   "name": "python",
   "nbconvert_exporter": "python",
   "pygments_lexer": "ipython3",
   "version": "3.7.4"
  }
 },
 "nbformat": 4,
 "nbformat_minor": 2
}
