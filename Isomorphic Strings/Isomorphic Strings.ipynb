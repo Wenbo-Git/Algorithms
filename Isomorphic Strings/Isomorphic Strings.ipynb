{
 "cells": [
  {
   "cell_type": "markdown",
   "metadata": {},
   "source": [
    "#### https://leetcode.com/problems/isomorphic-strings"
   ]
  },
  {
   "cell_type": "code",
   "execution_count": 1,
   "metadata": {},
   "outputs": [],
   "source": [
    "class Solution:\n",
    "    def isIsomorphic(self, s: str, t: str) -> bool:\n",
    "        hash_map1 = {}\n",
    "        for i in range(len(s)):\n",
    "            if s[i] not in hash_map1:\n",
    "                hash_map1[s[i]] = str(i)\n",
    "            else:\n",
    "                hash_map1[s[i]] += str(i)\n",
    "        \n",
    "        hash_map2 = {}\n",
    "        for j in range(len(t)):\n",
    "            if t[j] not in hash_map2:\n",
    "                hash_map2[t[j]] = str(j)\n",
    "            else:\n",
    "                hash_map2[t[j]] += str(j)\n",
    "        \n",
    "        for key1, value1 in hash_map1.items():\n",
    "            found = False\n",
    "            for key2, value2 in hash_map2.items():\n",
    "                if value1 == value2:\n",
    "                    found = True\n",
    "                    break \n",
    "            if found is False:\n",
    "                return False\n",
    "        \n",
    "        return True"
   ]
  },
  {
   "cell_type": "code",
   "execution_count": 2,
   "metadata": {},
   "outputs": [
    {
     "data": {
      "text/plain": [
       "True"
      ]
     },
     "execution_count": 2,
     "metadata": {},
     "output_type": "execute_result"
    }
   ],
   "source": [
    "Solution().isIsomorphic(\"egg\", \"add\")"
   ]
  }
 ],
 "metadata": {
  "kernelspec": {
   "display_name": "Python 3",
   "language": "python",
   "name": "python3"
  },
  "language_info": {
   "codemirror_mode": {
    "name": "ipython",
    "version": 3
   },
   "file_extension": ".py",
   "mimetype": "text/x-python",
   "name": "python",
   "nbconvert_exporter": "python",
   "pygments_lexer": "ipython3",
   "version": "3.7.4"
  }
 },
 "nbformat": 4,
 "nbformat_minor": 2
}
