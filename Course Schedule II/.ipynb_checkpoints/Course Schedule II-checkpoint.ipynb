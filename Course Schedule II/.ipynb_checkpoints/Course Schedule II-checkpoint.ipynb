{
 "cells": [
  {
   "cell_type": "markdown",
   "metadata": {},
   "source": [
    "#### https://leetcode.com/problems/course-schedule-ii"
   ]
  },
  {
   "cell_type": "code",
   "execution_count": 1,
   "metadata": {},
   "outputs": [],
   "source": [
    "class Solution:\n",
    "    def findOrder(self, numCourses, prerequisites):\n",
    "        Courses, Pres = {}, {}\n",
    "        for c, p in prerequisites:\n",
    "            if c not in Courses:\n",
    "                Courses[c] = set()\n",
    "            Courses[c].add(p)\n",
    "            if p not in Pres:\n",
    "                Pres[p] = set()\n",
    "            Pres[p].add(c)\n",
    "        queue = []\n",
    "        for i in range(numCourses):\n",
    "            if i not in Courses:\n",
    "                queue.append(i)\n",
    "        ret = []\n",
    "        count = 0\n",
    "        while queue:\n",
    "            p = queue.pop(0)\n",
    "            ret.append(p)\n",
    "            count += 1\n",
    "            if p in Pres:\n",
    "                for nei in Pres[p]:\n",
    "                    Courses[nei].remove(p)\n",
    "                    if not Courses[nei]:\n",
    "                        queue.append(nei)\n",
    "        return ret if count == numCourses else []"
   ]
  },
  {
   "cell_type": "code",
   "execution_count": 2,
   "metadata": {},
   "outputs": [
    {
     "name": "stdout",
     "output_type": "stream",
     "text": [
      "[0, 1]\n"
     ]
    }
   ],
   "source": [
    "print(Solution().findOrder(2, [[1,0]]))"
   ]
  }
 ],
 "metadata": {
  "kernelspec": {
   "display_name": "Python 3",
   "language": "python",
   "name": "python3"
  },
  "language_info": {
   "codemirror_mode": {
    "name": "ipython",
    "version": 3
   },
   "file_extension": ".py",
   "mimetype": "text/x-python",
   "name": "python",
   "nbconvert_exporter": "python",
   "pygments_lexer": "ipython3",
   "version": "3.7.4"
  }
 },
 "nbformat": 4,
 "nbformat_minor": 2
}
