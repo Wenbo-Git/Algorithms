{
 "cells": [
  {
   "cell_type": "markdown",
   "metadata": {},
   "source": [
    "#### https://leetcode.com/problems/flatten-a-multilevel-doubly-linked-list"
   ]
  },
  {
   "cell_type": "code",
   "execution_count": 1,
   "metadata": {},
   "outputs": [],
   "source": [
    "class Node(object):\n",
    "    def __init__(self, val, prev, next, child):\n",
    "        self.val = val\n",
    "        self.prev = prev\n",
    "        self.next = next\n",
    "        self.child = child\n",
    "\n",
    "class Solution(object):\n",
    "    def flatten(self, head):\n",
    "        \"\"\"\n",
    "        :type head: Node\n",
    "        :rtype: Node\n",
    "        \"\"\"\n",
    "        current = head\n",
    "        if current is None:\n",
    "            return None\n",
    "        \n",
    "        while current is not None:\n",
    "            if current.child is not None:\n",
    "                flattened_head = self.flatten(current.child)\n",
    "                current.child = None\n",
    "                if flattened_head is not None:\n",
    "                    flattened_head.prev = current\n",
    "                    \n",
    "                    tmp_next = None\n",
    "                    if current.next is not None:\n",
    "                        tmp_next = current.next\n",
    "                    \n",
    "                    current.next = flattened_head\n",
    "                    while current.next is not None:\n",
    "                        current = current.next\n",
    "                    \n",
    "                    current.next = tmp_next\n",
    "                    if tmp_next is not None:\n",
    "                        tmp_next.prev = current\n",
    "            \n",
    "            current = current.next\n",
    "        return head"
   ]
  }
 ],
 "metadata": {
  "kernelspec": {
   "display_name": "Python 3",
   "language": "python",
   "name": "python3"
  },
  "language_info": {
   "codemirror_mode": {
    "name": "ipython",
    "version": 3
   },
   "file_extension": ".py",
   "mimetype": "text/x-python",
   "name": "python",
   "nbconvert_exporter": "python",
   "pygments_lexer": "ipython3",
   "version": "3.7.4"
  }
 },
 "nbformat": 4,
 "nbformat_minor": 2
}
