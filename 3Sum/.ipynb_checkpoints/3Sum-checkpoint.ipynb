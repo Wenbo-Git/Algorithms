{
 "cells": [
  {
   "cell_type": "markdown",
   "metadata": {},
   "source": [
    "#### https://leetcode.com/problems/3sum"
   ]
  },
  {
   "cell_type": "code",
   "execution_count": 1,
   "metadata": {},
   "outputs": [
    {
     "data": {
      "text/plain": [
       "'\\ndef threeSum(nums):\\n    res = []\\n    n = len(nums)\\n    nums = sorted(nums)\\n    for i in range(n-2):\\n        if i > 0 and nums[i] == nums[i-1]:\\n            continue\\n        j = i+1\\n        k = n-1\\n        new_target = -nums[i]\\n        while j < k:\\n            summ = nums[j] + nums[k]\\n            if summ < new_target:\\n                j += 1\\n            elif summ > new_target:\\n                k -= 1\\n            else:\\n                res.append([nums[i], nums[j], nums[k]])\\n                while j < k and nums[j+1] == nums[j]:\\n                    j += 1\\n                j += 1\\n                while k > j and nums[k-1] == nums[k]:\\n                    k -= 1\\n                k -= 1\\n    return res\\n'"
      ]
     },
     "execution_count": 1,
     "metadata": {},
     "output_type": "execute_result"
    }
   ],
   "source": [
    "def threeSum(nums):\n",
    "    d = {}\n",
    "    ret = []\n",
    "    ans = []\n",
    "    for i in range(0, len(nums)):\n",
    "        for j in range(i + 1, len(nums)):\n",
    "            for k in range(j + 1, len(nums)):\n",
    "                if nums[i] + nums[j] + nums[k] == 0:\n",
    "                    ans.append([nums[i], nums[j], nums[k]])\n",
    "    for a in ans:\n",
    "        if str(a) not in d:\n",
    "            d[str([a[0], a[1], a[2]])] = True\n",
    "            d[str([a[0], a[2], a[1]])] = True\n",
    "            d[str([a[1], a[0], a[2]])] = True\n",
    "            d[str([a[1], a[2], a[0]])] = True\n",
    "            d[str([a[2], a[0], a[1]])] = True\n",
    "            d[str([a[2], a[1], a[0]])] = True\n",
    "            ret.append(a)\n",
    "    return ret\n",
    "\n",
    "### This solution does not cause TLE. It is from: ###\n",
    "### https://leetcode.com/problems/3sum/discuss/222521/Python-solution ###\n",
    "'''\n",
    "def threeSum(nums):\n",
    "    res = []\n",
    "    n = len(nums)\n",
    "    nums = sorted(nums)\n",
    "    for i in range(n-2):\n",
    "        if i > 0 and nums[i] == nums[i-1]:\n",
    "            continue\n",
    "        j = i+1\n",
    "        k = n-1\n",
    "        new_target = -nums[i]\n",
    "        while j < k:\n",
    "            summ = nums[j] + nums[k]\n",
    "            if summ < new_target:\n",
    "                j += 1\n",
    "            elif summ > new_target:\n",
    "                k -= 1\n",
    "            else:\n",
    "                res.append([nums[i], nums[j], nums[k]])\n",
    "                while j < k and nums[j+1] == nums[j]:\n",
    "                    j += 1\n",
    "                j += 1\n",
    "                while k > j and nums[k-1] == nums[k]:\n",
    "                    k -= 1\n",
    "                k -= 1\n",
    "    return res\n",
    "'''"
   ]
  },
  {
   "cell_type": "code",
   "execution_count": 2,
   "metadata": {},
   "outputs": [
    {
     "name": "stdout",
     "output_type": "stream",
     "text": [
      "[[-1, 0, 1], [-1, 2, -1]]\n"
     ]
    }
   ],
   "source": [
    "print(threeSum([-1,0,1,2,-1,-4]))"
   ]
  }
 ],
 "metadata": {
  "kernelspec": {
   "display_name": "Python 3",
   "language": "python",
   "name": "python3"
  },
  "language_info": {
   "codemirror_mode": {
    "name": "ipython",
    "version": 3
   },
   "file_extension": ".py",
   "mimetype": "text/x-python",
   "name": "python",
   "nbconvert_exporter": "python",
   "pygments_lexer": "ipython3",
   "version": "3.7.4"
  }
 },
 "nbformat": 4,
 "nbformat_minor": 2
}
