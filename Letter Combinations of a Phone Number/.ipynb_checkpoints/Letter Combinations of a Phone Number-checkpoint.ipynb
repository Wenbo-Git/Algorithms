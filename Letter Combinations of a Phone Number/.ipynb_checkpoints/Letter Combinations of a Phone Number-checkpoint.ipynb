{
 "cells": [
  {
   "cell_type": "markdown",
   "metadata": {},
   "source": [
    "#### https://leetcode.com/problems/letter-combinations-of-a-phone-number"
   ]
  },
  {
   "cell_type": "code",
   "execution_count": 2,
   "metadata": {},
   "outputs": [],
   "source": [
    "class Solution:\n",
    "    def letterCombinations(self, digits: str):\n",
    "        table = {\"2\" : ['a', 'b', \"c\"],\n",
    "                 \"3\" : ['d', 'e', \"f\"],\n",
    "                 \"4\" : ['g', 'h', \"i\"],\n",
    "                 \"5\" : ['j', 'k', \"l\"],\n",
    "                 \"6\" : ['m', 'n', \"o\"],\n",
    "                 \"7\" : ['p', 'q', \"r\", \"s\"],\n",
    "                 \"8\" : ['t', 'u', \"v\"],\n",
    "                 \"9\" : ['w', 'x', \"y\", \"z\"]}\n",
    "        if not digits:\n",
    "            return []\n",
    "        res = [\"\"]\n",
    "        for digit in digits:\n",
    "            curr_combo = []\n",
    "            letters = table[digit]\n",
    "            for prev in res:\n",
    "                for letter in letters:\n",
    "                    curr_combo.append(prev + letter)\n",
    "            res = curr_combo\n",
    "        return res"
   ]
  },
  {
   "cell_type": "code",
   "execution_count": 5,
   "metadata": {},
   "outputs": [
    {
     "data": {
      "text/plain": [
       "['pmg',\n",
       " 'pmh',\n",
       " 'pmi',\n",
       " 'png',\n",
       " 'pnh',\n",
       " 'pni',\n",
       " 'pog',\n",
       " 'poh',\n",
       " 'poi',\n",
       " 'qmg',\n",
       " 'qmh',\n",
       " 'qmi',\n",
       " 'qng',\n",
       " 'qnh',\n",
       " 'qni',\n",
       " 'qog',\n",
       " 'qoh',\n",
       " 'qoi',\n",
       " 'rmg',\n",
       " 'rmh',\n",
       " 'rmi',\n",
       " 'rng',\n",
       " 'rnh',\n",
       " 'rni',\n",
       " 'rog',\n",
       " 'roh',\n",
       " 'roi',\n",
       " 'smg',\n",
       " 'smh',\n",
       " 'smi',\n",
       " 'sng',\n",
       " 'snh',\n",
       " 'sni',\n",
       " 'sog',\n",
       " 'soh',\n",
       " 'soi']"
      ]
     },
     "execution_count": 5,
     "metadata": {},
     "output_type": "execute_result"
    }
   ],
   "source": [
    "Solution().letterCombinations(\"764\")"
   ]
  }
 ],
 "metadata": {
  "kernelspec": {
   "display_name": "Python 3",
   "language": "python",
   "name": "python3"
  },
  "language_info": {
   "codemirror_mode": {
    "name": "ipython",
    "version": 3
   },
   "file_extension": ".py",
   "mimetype": "text/x-python",
   "name": "python",
   "nbconvert_exporter": "python",
   "pygments_lexer": "ipython3",
   "version": "3.7.4"
  }
 },
 "nbformat": 4,
 "nbformat_minor": 2
}
