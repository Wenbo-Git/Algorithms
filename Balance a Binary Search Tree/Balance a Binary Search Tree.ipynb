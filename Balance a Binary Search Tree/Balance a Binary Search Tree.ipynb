{
 "cells": [
  {
   "cell_type": "markdown",
   "metadata": {},
   "source": [
    "#### https://leetcode.com/contest/weekly-contest-180/problems/balance-a-binary-search-tree"
   ]
  },
  {
   "cell_type": "code",
   "execution_count": 1,
   "metadata": {},
   "outputs": [],
   "source": [
    "class TreeNode:\n",
    "    def __init__(self, x):\n",
    "        self.val = x\n",
    "        self.left = None\n",
    "        self.right = None\n",
    "\n",
    "class Solution:\n",
    "    def tree_to_array(self, root):\n",
    "        ret = []\n",
    "        if not root:\n",
    "            return ret\n",
    "        ret.append(root.val)\n",
    "        ret += self.tree_to_array(root.left)\n",
    "        ret += self.tree_to_array(root.right)\n",
    "        return ret\n",
    "        \n",
    "    def build_balanced_BST(self, sorted_array):\n",
    "        if not sorted_array:\n",
    "            return None\n",
    "        mid_idx = len(sorted_array) // 2\n",
    "        root = TreeNode(sorted_array[mid_idx])\n",
    "        root.left = self.build_balanced_BST(sorted_array[0:mid_idx])\n",
    "        root.right = self.build_balanced_BST(sorted_array[mid_idx+1:])\n",
    "        return root\n",
    "    \n",
    "    def balanceBST(self, root: TreeNode) -> TreeNode:\n",
    "        array = self.tree_to_array(root)\n",
    "        array.sort()\n",
    "        return self.build_balanced_BST(array)"
   ]
  },
  {
   "cell_type": "code",
   "execution_count": 8,
   "metadata": {},
   "outputs": [
    {
     "name": "stdout",
     "output_type": "stream",
     "text": [
      "3\n",
      "2\n",
      "1\n",
      "4\n"
     ]
    }
   ],
   "source": [
    "n1 = TreeNode(1)\n",
    "n2 = TreeNode(2)\n",
    "n3 = TreeNode(3)\n",
    "n4 = TreeNode(4)\n",
    "\n",
    "n1.right = n2\n",
    "n2.right = n3\n",
    "n3.right = n4\n",
    "\n",
    "root = TreeNode(0) \n",
    "root = Solution().balanceBST(n1)\n",
    "print(root.val)\n",
    "print(root.left.val)\n",
    "print(root.left.left.val)\n",
    "print(root.right.val)"
   ]
  }
 ],
 "metadata": {
  "kernelspec": {
   "display_name": "Python 3",
   "language": "python",
   "name": "python3"
  },
  "language_info": {
   "codemirror_mode": {
    "name": "ipython",
    "version": 3
   },
   "file_extension": ".py",
   "mimetype": "text/x-python",
   "name": "python",
   "nbconvert_exporter": "python",
   "pygments_lexer": "ipython3",
   "version": "3.7.4"
  }
 },
 "nbformat": 4,
 "nbformat_minor": 2
}
