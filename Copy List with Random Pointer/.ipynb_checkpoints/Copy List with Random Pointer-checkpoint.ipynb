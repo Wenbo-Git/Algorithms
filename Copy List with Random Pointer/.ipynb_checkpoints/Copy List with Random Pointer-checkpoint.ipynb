{
 "cells": [
  {
   "cell_type": "markdown",
   "metadata": {},
   "source": [
    "#### https://leetcode.com/problems/copy-list-with-random-pointer"
   ]
  },
  {
   "cell_type": "code",
   "execution_count": 4,
   "metadata": {},
   "outputs": [],
   "source": [
    "class Node(object):\n",
    "    def __init__(self, val, next = None, random = None):\n",
    "        self.val = val\n",
    "        self.next = next\n",
    "        self.random = random\n",
    "\n",
    "class Solution(object):\n",
    "    def __init__(self):\n",
    "        self.clone_nodes = {}\n",
    "    \n",
    "    def copyRandomList(self, head):\n",
    "        if head is None:\n",
    "            return None\n",
    "        elif head in self.clone_nodes:\n",
    "            return self.clone_nodes[head]\n",
    "        else:\n",
    "            clone_head = Node(head.val, None, None)\n",
    "            self.clone_nodes[head] = clone_head\n",
    "            clone_head.next = self.copyRandomList(head.next)\n",
    "            clone_head.random = self.copyRandomList(head.random)\n",
    "            return clone_head"
   ]
  },
  {
   "cell_type": "code",
   "execution_count": 6,
   "metadata": {},
   "outputs": [],
   "source": [
    "n0 = Node(7)\n",
    "n1 = Node(13)\n",
    "n2 = Node(11)\n",
    "n3 = Node(10)\n",
    "n4 = Node(1)\n",
    "\n",
    "n0.next, n0.random = n1, None\n",
    "n1.next, n1.random = n2, n0\n",
    "n2.next, n2.random = n3, n4\n",
    "n3.next, n3.random = n4, n2\n",
    "n4.next, n4.random = None, n0"
   ]
  },
  {
   "cell_type": "code",
   "execution_count": 11,
   "metadata": {},
   "outputs": [],
   "source": [
    "c0 = Solution().copyRandomList(n0)\n",
    "c1 = c0.next\n",
    "c2 = c1.next\n",
    "c3 = c2.next\n",
    "c4 = c3.next"
   ]
  },
  {
   "cell_type": "code",
   "execution_count": 13,
   "metadata": {},
   "outputs": [
    {
     "name": "stdout",
     "output_type": "stream",
     "text": [
      "val = 7, next val = 13, random val = None\n",
      "val = 13, next val = 11, random val = 7\n",
      "val = 11, next val = 10, random val = 1\n",
      "val = 10, next val = 1, random val = 11\n",
      "val = 1, next val = None, random val = 7\n"
     ]
    }
   ],
   "source": [
    "print(\"val = {0}, next val = {1}, random val = {2}\".format(c0.val, c0.next.val, \"None\" if not c0.random else c0.random.val))\n",
    "print(\"val = {0}, next val = {1}, random val = {2}\".format(c1.val, c1.next.val, \"None\" if not c1.random else c1.random.val))\n",
    "print(\"val = {0}, next val = {1}, random val = {2}\".format(c2.val, c2.next.val, \"None\" if not c2.random else c2.random.val))\n",
    "print(\"val = {0}, next val = {1}, random val = {2}\".format(c3.val, c3.next.val, \"None\" if not c3.random else c3.random.val))\n",
    "print(\"val = {0}, next val = {1}, random val = {2}\".format(c4.val, \"None\" if not c4.next else c4.next.val, \"None\" if not c4.random else c4.random.val))"
   ]
  }
 ],
 "metadata": {
  "kernelspec": {
   "display_name": "Python 3",
   "language": "python",
   "name": "python3"
  },
  "language_info": {
   "codemirror_mode": {
    "name": "ipython",
    "version": 3
   },
   "file_extension": ".py",
   "mimetype": "text/x-python",
   "name": "python",
   "nbconvert_exporter": "python",
   "pygments_lexer": "ipython3",
   "version": "3.7.4"
  }
 },
 "nbformat": 4,
 "nbformat_minor": 2
}
