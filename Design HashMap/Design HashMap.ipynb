{
 "cells": [
  {
   "cell_type": "markdown",
   "metadata": {},
   "source": [
    "#### https://leetcode.com/problems/design-hashmap"
   ]
  },
  {
   "cell_type": "code",
   "execution_count": 1,
   "metadata": {},
   "outputs": [],
   "source": [
    "class MyHashMap(object):\n",
    "    def __init__(self):\n",
    "        self.dic = {}\n",
    "        \n",
    "    def put(self, key, value):\n",
    "        self.dic[key] = value     \n",
    "\n",
    "    def get(self, key):\n",
    "        if key not in self.dic:\n",
    "            return -1\n",
    "        else:\n",
    "            return self.dic[key]\n",
    "\n",
    "    def remove(self, key):\n",
    "        if key in self.dic:\n",
    "            del self.dic[key]"
   ]
  },
  {
   "cell_type": "code",
   "execution_count": 2,
   "metadata": {},
   "outputs": [
    {
     "name": "stdout",
     "output_type": "stream",
     "text": [
      "1\n",
      "-1\n",
      "1\n",
      "-1\n"
     ]
    }
   ],
   "source": [
    "hp = MyHashMap()\n",
    "hp.put(1, 1)\n",
    "hp.put(2, 2)\n",
    "print(hp.get(1))\n",
    "print(hp.get(3))\n",
    "hp.put(2, 1)\n",
    "print(hp.get(2))\n",
    "hp.remove(2)\n",
    "print(hp.get(2))"
   ]
  }
 ],
 "metadata": {
  "kernelspec": {
   "display_name": "Python 3",
   "language": "python",
   "name": "python3"
  },
  "language_info": {
   "codemirror_mode": {
    "name": "ipython",
    "version": 3
   },
   "file_extension": ".py",
   "mimetype": "text/x-python",
   "name": "python",
   "nbconvert_exporter": "python",
   "pygments_lexer": "ipython3",
   "version": "3.7.4"
  }
 },
 "nbformat": 4,
 "nbformat_minor": 2
}
