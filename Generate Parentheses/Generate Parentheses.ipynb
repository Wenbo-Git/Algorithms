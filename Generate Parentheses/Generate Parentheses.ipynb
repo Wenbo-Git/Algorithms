{
 "cells": [
  {
   "cell_type": "markdown",
   "metadata": {},
   "source": [
    "#### https://leetcode.com/problems/generate-parentheses"
   ]
  },
  {
   "cell_type": "code",
   "execution_count": 2,
   "metadata": {},
   "outputs": [],
   "source": [
    "class Solution:\n",
    "    def generateParenthesis(self, n: int):\n",
    "        ret = []\n",
    "        self.helper(\"(\", n - 1, 1, ret)\n",
    "        return ret\n",
    "        \n",
    "    def helper(self, previous, remaining_left, remaining_right, ret):\n",
    "        if remaining_left == 0:\n",
    "            for i in range(remaining_right):\n",
    "                previous += \")\"\n",
    "            ret.append(previous)\n",
    "            return\n",
    "        if remaining_left > 0:\n",
    "            self.helper(previous + \"(\", remaining_left - 1, remaining_right + 1, ret)\n",
    "        if remaining_right > 0:\n",
    "            self.helper(previous + \")\", remaining_left, remaining_right - 1, ret)"
   ]
  },
  {
   "cell_type": "code",
   "execution_count": 4,
   "metadata": {},
   "outputs": [
    {
     "name": "stdout",
     "output_type": "stream",
     "text": [
      "['((()))', '(()())', '(())()', '()(())', '()()()']\n"
     ]
    }
   ],
   "source": [
    "print(Solution().generateParenthesis(3))"
   ]
  }
 ],
 "metadata": {
  "kernelspec": {
   "display_name": "Python 3",
   "language": "python",
   "name": "python3"
  },
  "language_info": {
   "codemirror_mode": {
    "name": "ipython",
    "version": 3
   },
   "file_extension": ".py",
   "mimetype": "text/x-python",
   "name": "python",
   "nbconvert_exporter": "python",
   "pygments_lexer": "ipython3",
   "version": "3.7.4"
  }
 },
 "nbformat": 4,
 "nbformat_minor": 2
}
