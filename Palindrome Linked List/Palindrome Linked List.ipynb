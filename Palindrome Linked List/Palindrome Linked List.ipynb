{
 "cells": [
  {
   "cell_type": "markdown",
   "metadata": {},
   "source": [
    "#### https://leetcode.com/problems/palindrome-linked-list"
   ]
  },
  {
   "cell_type": "code",
   "execution_count": 1,
   "metadata": {},
   "outputs": [],
   "source": [
    "class ListNode:\n",
    "    def __init__(self, x):\n",
    "        self.val = x\n",
    "        self.next = None\n",
    "\n",
    "class Solution:\n",
    "    def isPalindromeHelper(self, arr):\n",
    "        length = len(arr)\n",
    "        if length == 0 or length == 1:\n",
    "            return True\n",
    "        elif arr[0] != arr[length - 1]:\n",
    "            return False\n",
    "        else:\n",
    "            del arr[0]\n",
    "            del arr[-1]\n",
    "            return self.isPalindromeHelper(arr)\n",
    "            \n",
    "    def isPalindrome(self, head):\n",
    "        l = []\n",
    "        curr = head\n",
    "        while curr is not None:\n",
    "            l.append(curr.val)\n",
    "            curr = curr.next\n",
    "        return self.isPalindromeHelper(l)"
   ]
  },
  {
   "cell_type": "code",
   "execution_count": 2,
   "metadata": {},
   "outputs": [
    {
     "data": {
      "text/plain": [
       "False"
      ]
     },
     "execution_count": 2,
     "metadata": {},
     "output_type": "execute_result"
    }
   ],
   "source": [
    "n1 = ListNode(1)\n",
    "n2 = ListNode(2)\n",
    "n1.next = n2\n",
    "\n",
    "Solution().isPalindrome(n1)"
   ]
  }
 ],
 "metadata": {
  "kernelspec": {
   "display_name": "Python 3",
   "language": "python",
   "name": "python3"
  },
  "language_info": {
   "codemirror_mode": {
    "name": "ipython",
    "version": 3
   },
   "file_extension": ".py",
   "mimetype": "text/x-python",
   "name": "python",
   "nbconvert_exporter": "python",
   "pygments_lexer": "ipython3",
   "version": "3.7.4"
  }
 },
 "nbformat": 4,
 "nbformat_minor": 2
}
