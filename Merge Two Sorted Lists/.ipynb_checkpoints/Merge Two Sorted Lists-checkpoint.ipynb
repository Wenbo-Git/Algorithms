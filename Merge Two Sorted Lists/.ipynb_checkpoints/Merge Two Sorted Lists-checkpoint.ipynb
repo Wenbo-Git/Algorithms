{
 "cells": [
  {
   "cell_type": "markdown",
   "metadata": {},
   "source": [
    "#### https://leetcode.com/problems/merge-two-sorted-lists"
   ]
  },
  {
   "cell_type": "code",
   "execution_count": 3,
   "metadata": {},
   "outputs": [],
   "source": [
    "class ListNode:\n",
    "    def __init__(self, val=0, next=None):\n",
    "        self.val = val\n",
    "        self.next = next\n",
    "\n",
    "class Solution:\n",
    "    def mergeTwoLists(self, list1, list2):\n",
    "        if list1 is None and list2 is None:\n",
    "            return None\n",
    "        if list1 is None:\n",
    "            return list2\n",
    "        if list2 is None:\n",
    "            return list1\n",
    "        \n",
    "        head = current = None\n",
    "        ptr1, ptr2 = list1, list2\n",
    "        \n",
    "        while ptr1 and ptr2:\n",
    "            if ptr1.val <= ptr2.val:\n",
    "                if head is None:\n",
    "                    head = current = ListNode(ptr1.val)\n",
    "                else:\n",
    "                    current.next = ListNode(ptr1.val)\n",
    "                    current = current.next\n",
    "                ptr1 = ptr1.next\n",
    "            else:\n",
    "                if head is None:\n",
    "                    head = current = ListNode(ptr2.val)\n",
    "                else:\n",
    "                    current.next = ListNode(ptr2.val)\n",
    "                    current = current.next\n",
    "                ptr2 = ptr2.next\n",
    "        \n",
    "        if ptr1:\n",
    "            current.next = ptr1\n",
    "        if ptr2:\n",
    "            current.next = ptr2\n",
    "        \n",
    "        return head"
   ]
  },
  {
   "cell_type": "code",
   "execution_count": 8,
   "metadata": {},
   "outputs": [
    {
     "name": "stdout",
     "output_type": "stream",
     "text": [
      "1\n",
      "1\n",
      "2\n",
      "3\n",
      "4\n",
      "4\n"
     ]
    }
   ],
   "source": [
    "l1 = ListNode(1)\n",
    "l1.next = ListNode(2)\n",
    "l1.next.next = ListNode(4)\n",
    "\n",
    "l2 = ListNode(1)\n",
    "l2.next = ListNode(3)\n",
    "l2.next.next = ListNode(4)\n",
    "\n",
    "ret = Solution().mergeTwoLists(l1, l2)\n",
    "\n",
    "while ret:\n",
    "    print(ret.val)\n",
    "    ret = ret.next"
   ]
  }
 ],
 "metadata": {
  "kernelspec": {
   "display_name": "Python 3",
   "language": "python",
   "name": "python3"
  },
  "language_info": {
   "codemirror_mode": {
    "name": "ipython",
    "version": 3
   },
   "file_extension": ".py",
   "mimetype": "text/x-python",
   "name": "python",
   "nbconvert_exporter": "python",
   "pygments_lexer": "ipython3",
   "version": "3.8.3"
  }
 },
 "nbformat": 4,
 "nbformat_minor": 4
}
