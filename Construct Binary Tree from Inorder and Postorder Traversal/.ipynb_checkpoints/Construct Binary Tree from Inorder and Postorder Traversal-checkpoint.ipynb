{
 "cells": [
  {
   "cell_type": "markdown",
   "metadata": {},
   "source": [
    "#### https://leetcode.com/problems/construct-binary-tree-from-inorder-and-postorder-traversal"
   ]
  },
  {
   "cell_type": "code",
   "execution_count": 1,
   "metadata": {},
   "outputs": [],
   "source": [
    "class TreeNode(object):\n",
    "    def __init__(self, x):\n",
    "        self.val = x\n",
    "        self.left = None\n",
    "        self.right = None\n",
    "\n",
    "class Solution(object):\n",
    "    def buildTree(self, inorder, postorder):\n",
    "        \"\"\"\n",
    "        :type inorder: List[int]\n",
    "        :type postorder: List[int]\n",
    "        :rtype: TreeNode\n",
    "        \"\"\"\n",
    "        left_inorder = []\n",
    "        right_inorder = []\n",
    "        left_postorder = []\n",
    "        right_postorder = []\n",
    "        \n",
    "        if not inorder or not postorder:\n",
    "            root = None\n",
    "        elif len(inorder) == 1 or len(postorder) == 1:\n",
    "            root = TreeNode(inorder[0])\n",
    "        else:\n",
    "            root = TreeNode(postorder[len(postorder) - 1])\n",
    "            for i in range(0, len(inorder)):\n",
    "                if inorder[i] == root.val:\n",
    "                    left_inorder = inorder[0 : i]\n",
    "                    right_inorder = inorder[i + 1 : len(inorder)]\n",
    "                    left_postorder = postorder[0 : i]\n",
    "                    right_postorder = postorder[i : len(postorder) - 1]\n",
    "            root.left = self.buildTree(left_inorder, left_postorder)\n",
    "            root.right = self.buildTree(right_inorder, right_postorder)\n",
    "        return root\n",
    "    \n",
    "    def levelOrder(self, root):\n",
    "        if not root:\n",
    "            return []\n",
    "        ret, left, right = [[root.val]], [], []\n",
    "        if root.left:\n",
    "            left = self.levelOrder(root.left)\n",
    "        if root.right:\n",
    "            right = self.levelOrder(root.right)\n",
    "        n = min(len(left), len(right))\n",
    "        for i in range(n):\n",
    "            ret.append(left[i] + right[i])\n",
    "        if len(left) >= len(right):\n",
    "            ret += left[n:]\n",
    "        else:\n",
    "            ret += right[n:]\n",
    "        return ret"
   ]
  },
  {
   "cell_type": "code",
   "execution_count": 2,
   "metadata": {},
   "outputs": [
    {
     "name": "stdout",
     "output_type": "stream",
     "text": [
      "[[3], [9, 20], [15, 7]]\n"
     ]
    }
   ],
   "source": [
    "s = Solution()\n",
    "root = s.buildTree([9,3,15,20,7], [9,15,7,20,3])\n",
    "print(s.levelOrder(root))"
   ]
  }
 ],
 "metadata": {
  "kernelspec": {
   "display_name": "Python 3",
   "language": "python",
   "name": "python3"
  },
  "language_info": {
   "codemirror_mode": {
    "name": "ipython",
    "version": 3
   },
   "file_extension": ".py",
   "mimetype": "text/x-python",
   "name": "python",
   "nbconvert_exporter": "python",
   "pygments_lexer": "ipython3",
   "version": "3.7.4"
  }
 },
 "nbformat": 4,
 "nbformat_minor": 2
}
