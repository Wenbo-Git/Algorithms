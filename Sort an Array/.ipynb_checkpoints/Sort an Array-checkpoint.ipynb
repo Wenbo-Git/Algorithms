{
 "cells": [
  {
   "cell_type": "markdown",
   "metadata": {},
   "source": [
    "#### https://leetcode.com/problems/sort-an-array"
   ]
  },
  {
   "cell_type": "code",
   "execution_count": 1,
   "metadata": {},
   "outputs": [],
   "source": [
    "import math\n",
    "class Solution:\n",
    "    def sortArray(self, nums):\n",
    "        self.quick_sort(nums, 0, len(nums) - 1)\n",
    "        return nums\n",
    "    \n",
    "    def quick_sort(self, nums, lo, hi):\n",
    "        if lo < hi:\n",
    "            p = self.partition(nums, lo, hi)\n",
    "            self.quick_sort(nums, lo, p)\n",
    "            self.quick_sort(nums, p + 1, hi)\n",
    "            \n",
    "    def partition(self, nums, lo, hi):\n",
    "        pivot = nums[math.floor(lo + (hi - lo)/2)]\n",
    "        i, j = lo, hi\n",
    "        while True:\n",
    "            while nums[i] < pivot:\n",
    "                i += 1\n",
    "            while nums[j] > pivot:\n",
    "                j -= 1\n",
    "            if i >= j:\n",
    "                return j\n",
    "            nums[i], nums[j] = nums[j], nums[i]\n",
    "            i += 1\n",
    "            j -= 1\n",
    "\n",
    "    ### merge sort ###\n",
    "    '''\n",
    "    def sortArray(self, nums: List[int]) -> List[int]:\n",
    "        N = len(nums)\n",
    "        if N == 1:\n",
    "            return nums\n",
    "        l = self.sortArray(nums[0 : N//2])\n",
    "        r = self.sortArray(nums[N//2 : N])\n",
    "        ret = []\n",
    "        i = j = 0\n",
    "        while i < len(l) and j < len(r):\n",
    "            if l[i] <= r[j]:\n",
    "                ret.append(l[i])\n",
    "                i += 1\n",
    "            else:\n",
    "                ret.append(r[j])\n",
    "                j += 1\n",
    "        if i == len(l) and j < len(r):\n",
    "            ret += r[j:]\n",
    "        if j == len(r) and i < len(l):\n",
    "            ret += l[i:]\n",
    "        return ret\n",
    "    '''"
   ]
  },
  {
   "cell_type": "code",
   "execution_count": 2,
   "metadata": {},
   "outputs": [
    {
     "data": {
      "text/plain": [
       "[1, 2, 3, 5]"
      ]
     },
     "execution_count": 2,
     "metadata": {},
     "output_type": "execute_result"
    }
   ],
   "source": [
    "Solution().sortArray([5,2,3,1])"
   ]
  }
 ],
 "metadata": {
  "kernelspec": {
   "display_name": "Python 3",
   "language": "python",
   "name": "python3"
  },
  "language_info": {
   "codemirror_mode": {
    "name": "ipython",
    "version": 3
   },
   "file_extension": ".py",
   "mimetype": "text/x-python",
   "name": "python",
   "nbconvert_exporter": "python",
   "pygments_lexer": "ipython3",
   "version": "3.7.4"
  }
 },
 "nbformat": 4,
 "nbformat_minor": 2
}
