{
 "cells": [
  {
   "cell_type": "markdown",
   "metadata": {},
   "source": [
    "#### https://leetcode.com/problems/split-array-largest-sum"
   ]
  },
  {
   "cell_type": "code",
   "execution_count": 2,
   "metadata": {},
   "outputs": [],
   "source": [
    "from collections import defaultdict\n",
    "class Solution:\n",
    "    def __init__(self):\n",
    "        self.table = defaultdict(dict)\n",
    "        self.cum_sum = []\n",
    "        \n",
    "    def splitArray(self, nums, m):\n",
    "        for i in range(len(nums)):\n",
    "            if i == 0:\n",
    "                self.cum_sum.append(nums[0])\n",
    "            else:\n",
    "                self.cum_sum.append(self.cum_sum[i - 1] + nums[i])\n",
    "        return self.helper(nums, m, 0)\n",
    "        \n",
    "    def helper(self, nums, m, start):\n",
    "        if nums is []:\n",
    "            return 0\n",
    "        elif m == 1:\n",
    "            return sum(nums[start:])\n",
    "        else:\n",
    "            key1, key2 = start, m\n",
    "            if key1 in self.table and key2 in self.table[key1]:\n",
    "                return self.table[key1][key2]\n",
    "            self.table[key1][key2] = float('inf')\n",
    "            for i in range(0, len(nums[start:])):\n",
    "                if start == 0:\n",
    "                    left = self.cum_sum[i]\n",
    "                else:\n",
    "                    left = self.cum_sum[start + i] - self.cum_sum[start - 1]\n",
    "                right = self.helper(nums, m - 1, start + i + 1)\n",
    "                self.table[key1][key2] = min(self.table[key1][key2], max(left, right))\n",
    "                if left > right:\n",
    "                    break\n",
    "            return self.table[key1][key2]"
   ]
  },
  {
   "cell_type": "code",
   "execution_count": 3,
   "metadata": {},
   "outputs": [
    {
     "data": {
      "text/plain": [
       "18"
      ]
     },
     "execution_count": 3,
     "metadata": {},
     "output_type": "execute_result"
    }
   ],
   "source": [
    "Solution().splitArray([7,2,5,10,8], 2)"
   ]
  }
 ],
 "metadata": {
  "kernelspec": {
   "display_name": "Python 3",
   "language": "python",
   "name": "python3"
  },
  "language_info": {
   "codemirror_mode": {
    "name": "ipython",
    "version": 3
   },
   "file_extension": ".py",
   "mimetype": "text/x-python",
   "name": "python",
   "nbconvert_exporter": "python",
   "pygments_lexer": "ipython3",
   "version": "3.7.4"
  }
 },
 "nbformat": 4,
 "nbformat_minor": 2
}
