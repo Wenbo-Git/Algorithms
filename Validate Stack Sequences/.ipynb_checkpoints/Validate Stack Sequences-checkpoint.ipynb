{
 "cells": [
  {
   "cell_type": "markdown",
   "metadata": {},
   "source": [
    "#### https://leetcode.com/problems/validate-stack-sequences"
   ]
  },
  {
   "cell_type": "code",
   "execution_count": 2,
   "metadata": {},
   "outputs": [],
   "source": [
    "class Solution:\n",
    "    def validateStackSequences(self, pushed, popped):\n",
    "        if not pushed and not popped:\n",
    "            return True\n",
    "        stack = [pushed[0]]\n",
    "        i, j = 1, 0\n",
    "        while stack or i < len(pushed) or j < len(popped):\n",
    "            if not stack or stack[-1] != popped[j]:\n",
    "                if i < len(pushed):\n",
    "                    stack.append(pushed[i])\n",
    "                    i += 1\n",
    "                else:\n",
    "                    return False\n",
    "            else:\n",
    "                stack.pop(-1)\n",
    "                j += 1\n",
    "        return True"
   ]
  },
  {
   "cell_type": "code",
   "execution_count": 3,
   "metadata": {},
   "outputs": [
    {
     "data": {
      "text/plain": [
       "True"
      ]
     },
     "execution_count": 3,
     "metadata": {},
     "output_type": "execute_result"
    }
   ],
   "source": [
    "Solution().validateStackSequences([1,2,3,4,5], [4,5,3,2,1])"
   ]
  }
 ],
 "metadata": {
  "kernelspec": {
   "display_name": "Python 3",
   "language": "python",
   "name": "python3"
  },
  "language_info": {
   "codemirror_mode": {
    "name": "ipython",
    "version": 3
   },
   "file_extension": ".py",
   "mimetype": "text/x-python",
   "name": "python",
   "nbconvert_exporter": "python",
   "pygments_lexer": "ipython3",
   "version": "3.7.4"
  }
 },
 "nbformat": 4,
 "nbformat_minor": 2
}
