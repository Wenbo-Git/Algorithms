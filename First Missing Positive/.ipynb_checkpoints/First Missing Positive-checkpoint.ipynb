{
 "cells": [
  {
   "cell_type": "markdown",
   "metadata": {},
   "source": [
    "#### https://leetcode.com/problems/first-missing-positive"
   ]
  },
  {
   "cell_type": "code",
   "execution_count": 2,
   "metadata": {},
   "outputs": [],
   "source": [
    "class Solution:\n",
    "    def firstMissingPositive(self, nums) -> int:\n",
    "        if not nums:\n",
    "            return 1\n",
    "        nums.sort()\n",
    "        new_nums = []\n",
    "        for num in nums:\n",
    "            if num >= 0: new_nums.append(num)\n",
    "        if not new_nums or new_nums[0] > 1:\n",
    "            return 1\n",
    "        for i in range(len(new_nums)):\n",
    "            if i in range(1, len(new_nums)) and new_nums[i] - new_nums[i-1] > 1:\n",
    "                return new_nums[i-1] + 1\n",
    "        return new_nums[-1] + 1"
   ]
  },
  {
   "cell_type": "code",
   "execution_count": 3,
   "metadata": {},
   "outputs": [
    {
     "name": "stdout",
     "output_type": "stream",
     "text": [
      "3\n"
     ]
    }
   ],
   "source": [
    "print(Solution().firstMissingPositive([1,2,0]))"
   ]
  }
 ],
 "metadata": {
  "kernelspec": {
   "display_name": "Python 3",
   "language": "python",
   "name": "python3"
  },
  "language_info": {
   "codemirror_mode": {
    "name": "ipython",
    "version": 3
   },
   "file_extension": ".py",
   "mimetype": "text/x-python",
   "name": "python",
   "nbconvert_exporter": "python",
   "pygments_lexer": "ipython3",
   "version": "3.7.4"
  }
 },
 "nbformat": 4,
 "nbformat_minor": 2
}
