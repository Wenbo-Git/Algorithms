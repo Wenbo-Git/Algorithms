{
 "cells": [
  {
   "cell_type": "markdown",
   "metadata": {},
   "source": [
    "#### https://leetcode.com/problems/evaluate-division"
   ]
  },
  {
   "cell_type": "code",
   "execution_count": 3,
   "metadata": {},
   "outputs": [],
   "source": [
    "class Solution:\n",
    "    def calcEquation(self, equations, values, queries):\n",
    "        G = {}\n",
    "        for i in range(len(equations)):\n",
    "            a, b, r = equations[i][0], equations[i][1], values[i]\n",
    "            if a not in G:\n",
    "                G[a] = set()\n",
    "            G[a].add((b, r))\n",
    "            if b not in G:\n",
    "                G[b] = set()\n",
    "            G[b].add((a, 1/r))\n",
    "        \n",
    "        def dfs(a, b, G, seen):         \n",
    "            if a in G and b in G:\n",
    "                if a == b: \n",
    "                    return 1\n",
    "                seen.add(a)\n",
    "                for nei, r in G[a]:\n",
    "                    if nei == b:\n",
    "                        return r\n",
    "                    if nei not in seen:\n",
    "                        res = dfs(nei, b, G, seen)\n",
    "                        if res != -1:\n",
    "                            return r * res\n",
    "            return -1\n",
    "        \n",
    "        ret = []\n",
    "        for a, b in queries:\n",
    "            seen = set()\n",
    "            ret.append(dfs(a, b, G, seen))\n",
    "        return ret"
   ]
  },
  {
   "cell_type": "code",
   "execution_count": 4,
   "metadata": {},
   "outputs": [
    {
     "name": "stdout",
     "output_type": "stream",
     "text": [
      "[6.0, 0.5, -1, 1, -1]\n"
     ]
    }
   ],
   "source": [
    "print(Solution().calcEquation([[\"a\",\"b\"],[\"b\",\"c\"]], [2.0,3.0], [[\"a\",\"c\"],[\"b\",\"a\"],[\"a\",\"e\"],[\"a\",\"a\"],[\"x\",\"x\"]]))"
   ]
  }
 ],
 "metadata": {
  "kernelspec": {
   "display_name": "Python 3",
   "language": "python",
   "name": "python3"
  },
  "language_info": {
   "codemirror_mode": {
    "name": "ipython",
    "version": 3
   },
   "file_extension": ".py",
   "mimetype": "text/x-python",
   "name": "python",
   "nbconvert_exporter": "python",
   "pygments_lexer": "ipython3",
   "version": "3.7.4"
  }
 },
 "nbformat": 4,
 "nbformat_minor": 2
}
