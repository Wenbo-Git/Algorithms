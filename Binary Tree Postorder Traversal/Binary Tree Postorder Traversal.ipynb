{
 "cells": [
  {
   "cell_type": "markdown",
   "metadata": {},
   "source": [
    "#### https://leetcode.com/problems/binary-tree-postorder-traversal"
   ]
  },
  {
   "cell_type": "code",
   "execution_count": 1,
   "metadata": {},
   "outputs": [],
   "source": [
    "class TreeNode:\n",
    "    def __init__(self, x):\n",
    "        self.val = x\n",
    "        self.left = None\n",
    "        self.right = None\n",
    "\n",
    "class Solution:\n",
    "    def postorderTraversal(self, root: TreeNode):\n",
    "        ret = []\n",
    "        def helper(root):\n",
    "            if not root:\n",
    "                return\n",
    "            helper(root.left)\n",
    "            helper(root.right)\n",
    "            ret.append(root.val)\n",
    "        helper(root)\n",
    "        return ret\n",
    "    \n",
    "    ### iterative version ###\n",
    "    '''\n",
    "    def postorderTraversal(self, root: TreeNode):\n",
    "        if not root:\n",
    "            return []\n",
    "        ret = []\n",
    "        stack = [root]\n",
    "        while stack:\n",
    "            node = stack.pop()\n",
    "            ret.append(node.val)\n",
    "            if node.left:\n",
    "                stack.append(node.left)\n",
    "            if node.right:\n",
    "                stack.append(node.right)\n",
    "        ret.reverse()\n",
    "        return ret\n",
    "    '''"
   ]
  },
  {
   "cell_type": "code",
   "execution_count": 2,
   "metadata": {},
   "outputs": [
    {
     "name": "stdout",
     "output_type": "stream",
     "text": [
      "[3, 2, 1]\n"
     ]
    }
   ],
   "source": [
    "n1 = TreeNode(1)\n",
    "n2 = TreeNode(2)\n",
    "n3 = TreeNode(3)\n",
    "\n",
    "n1.right = n2\n",
    "n2.left = n3\n",
    "\n",
    "print(Solution().postorderTraversal(n1))"
   ]
  }
 ],
 "metadata": {
  "kernelspec": {
   "display_name": "Python 3",
   "language": "python",
   "name": "python3"
  },
  "language_info": {
   "codemirror_mode": {
    "name": "ipython",
    "version": 3
   },
   "file_extension": ".py",
   "mimetype": "text/x-python",
   "name": "python",
   "nbconvert_exporter": "python",
   "pygments_lexer": "ipython3",
   "version": "3.7.4"
  }
 },
 "nbformat": 4,
 "nbformat_minor": 2
}
