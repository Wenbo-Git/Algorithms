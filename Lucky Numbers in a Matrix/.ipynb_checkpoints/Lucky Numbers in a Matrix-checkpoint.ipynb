{
 "cells": [
  {
   "cell_type": "markdown",
   "metadata": {},
   "source": [
    "#### https://leetcode.com/contest/weekly-contest-180/problems/lucky-numbers-in-a-matrix"
   ]
  },
  {
   "cell_type": "code",
   "execution_count": 3,
   "metadata": {},
   "outputs": [],
   "source": [
    "import math\n",
    "class Solution:\n",
    "    def luckyNumbers (self, matrix):\n",
    "        ret = []\n",
    "        m, n = len(matrix), len(matrix[0])\n",
    "        for i in range(m):\n",
    "            row_min = math.inf\n",
    "            col_idx = 0\n",
    "            for j in range(n):\n",
    "                if matrix[i][j] <= row_min:\n",
    "                    row_min = matrix[i][j]\n",
    "                    col_idx = j\n",
    "            col_max = 0\n",
    "            for k in range(m):\n",
    "                col_max = max(col_max, matrix[k][col_idx])\n",
    "            if row_min == col_max:\n",
    "                ret.append(row_min)\n",
    "        return ret"
   ]
  },
  {
   "cell_type": "code",
   "execution_count": 4,
   "metadata": {},
   "outputs": [
    {
     "data": {
      "text/plain": [
       "[15]"
      ]
     },
     "execution_count": 4,
     "metadata": {},
     "output_type": "execute_result"
    }
   ],
   "source": [
    "Solution().luckyNumbers([[3,7,8],[9,11,13],[15,16,17]])"
   ]
  }
 ],
 "metadata": {
  "kernelspec": {
   "display_name": "Python 3",
   "language": "python",
   "name": "python3"
  },
  "language_info": {
   "codemirror_mode": {
    "name": "ipython",
    "version": 3
   },
   "file_extension": ".py",
   "mimetype": "text/x-python",
   "name": "python",
   "nbconvert_exporter": "python",
   "pygments_lexer": "ipython3",
   "version": "3.7.4"
  }
 },
 "nbformat": 4,
 "nbformat_minor": 2
}
