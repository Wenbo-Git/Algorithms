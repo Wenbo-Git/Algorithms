{
 "cells": [
  {
   "cell_type": "markdown",
   "metadata": {},
   "source": [
    "#### https://leetcode.com/problems/validate-binary-search-tree"
   ]
  },
  {
   "cell_type": "code",
   "execution_count": 1,
   "metadata": {},
   "outputs": [],
   "source": [
    "class TreeNode:\n",
    "    def __init__(self, x):\n",
    "        self.val = x\n",
    "        self.left = None\n",
    "        self.right = None\n",
    "\n",
    "class Solution:\n",
    "    def findMax(self, root):\n",
    "        if root is None:\n",
    "            return None\n",
    "        else:\n",
    "            curr = root\n",
    "            while curr.right is not None:\n",
    "                curr = curr.right\n",
    "            return curr.val\n",
    "        \n",
    "    def findMin(self, root):\n",
    "        if root is None:\n",
    "            return None\n",
    "        else:\n",
    "            curr = root\n",
    "            while curr.left is not None:\n",
    "                curr = curr.left\n",
    "            return curr.val\n",
    "        \n",
    "    def isValidBST(self, root: TreeNode) -> bool:\n",
    "        if root is None:\n",
    "            return True\n",
    "        \n",
    "        if root.left is not None:\n",
    "            if self.isValidBST(root.left) is True:\n",
    "                if self.findMax(root.left) >= root.val:\n",
    "                    return False\n",
    "            else:\n",
    "                return False\n",
    "                    \n",
    "        if root.right is not None:\n",
    "            if self.isValidBST(root.right) is True:\n",
    "                if self.findMin(root.right) <= root.val:\n",
    "                    return False\n",
    "            else:\n",
    "                return False\n",
    "            \n",
    "        return True"
   ]
  },
  {
   "cell_type": "code",
   "execution_count": 2,
   "metadata": {},
   "outputs": [
    {
     "data": {
      "text/plain": [
       "True"
      ]
     },
     "execution_count": 2,
     "metadata": {},
     "output_type": "execute_result"
    }
   ],
   "source": [
    "n1 = TreeNode(2)\n",
    "n2 = TreeNode(1)\n",
    "n3 = TreeNode(3)\n",
    "\n",
    "n1.left, n1.right = n2, n3\n",
    "Solution().isValidBST(n1)"
   ]
  }
 ],
 "metadata": {
  "kernelspec": {
   "display_name": "Python 3",
   "language": "python",
   "name": "python3"
  },
  "language_info": {
   "codemirror_mode": {
    "name": "ipython",
    "version": 3
   },
   "file_extension": ".py",
   "mimetype": "text/x-python",
   "name": "python",
   "nbconvert_exporter": "python",
   "pygments_lexer": "ipython3",
   "version": "3.7.4"
  }
 },
 "nbformat": 4,
 "nbformat_minor": 2
}
