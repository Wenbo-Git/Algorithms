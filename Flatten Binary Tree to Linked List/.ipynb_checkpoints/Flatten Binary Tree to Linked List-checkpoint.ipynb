{
 "cells": [
  {
   "cell_type": "markdown",
   "metadata": {},
   "source": [
    "#### https://leetcode.com/problems/flatten-binary-tree-to-linked-list"
   ]
  },
  {
   "cell_type": "code",
   "execution_count": 2,
   "metadata": {},
   "outputs": [],
   "source": [
    "class TreeNode(object):\n",
    "    def __init__(self, x):\n",
    "        self.val = x\n",
    "        self.left = None\n",
    "        self.right = None\n",
    "\n",
    "class Solution(object):\n",
    "    def flatten(self, root):\n",
    "        \"\"\"\n",
    "        :type root: TreeNode\n",
    "        :rtype: void Do not return anything, modify root in-place instead.\n",
    "        \"\"\"\n",
    "        if root is None:\n",
    "            return\n",
    "        if root.left is not None:\n",
    "            self.flatten(root.left)\n",
    "        if root.right is not None:\n",
    "            self.flatten(root.right)\n",
    "        \n",
    "        tmp_left = root.left\n",
    "        root.left = None\n",
    "        tmp_right = root.right\n",
    "        root.right = tmp_left\n",
    "        \n",
    "        end = root\n",
    "        while end.right is not None:\n",
    "            end = end.right\n",
    "        end.right = tmp_right "
   ]
  },
  {
   "cell_type": "code",
   "execution_count": 11,
   "metadata": {},
   "outputs": [
    {
     "name": "stdout",
     "output_type": "stream",
     "text": [
      "1\n",
      "2\n",
      "3\n",
      "4\n",
      "5\n",
      "6\n"
     ]
    }
   ],
   "source": [
    "n1 = TreeNode(1)\n",
    "n2 = TreeNode(2)\n",
    "n3 = TreeNode(3)\n",
    "n4 = TreeNode(4)\n",
    "n5 = TreeNode(5)\n",
    "n6 = TreeNode(6)\n",
    "\n",
    "n1.left = n2\n",
    "n1.right = n5\n",
    "n2.left = n3\n",
    "n2.right = n4\n",
    "n5.right = n6\n",
    "\n",
    "Solution().flatten(n1)\n",
    "curr = n1\n",
    "while curr:\n",
    "    print(curr.val)\n",
    "    curr = curr.right"
   ]
  }
 ],
 "metadata": {
  "kernelspec": {
   "display_name": "Python 3",
   "language": "python",
   "name": "python3"
  },
  "language_info": {
   "codemirror_mode": {
    "name": "ipython",
    "version": 3
   },
   "file_extension": ".py",
   "mimetype": "text/x-python",
   "name": "python",
   "nbconvert_exporter": "python",
   "pygments_lexer": "ipython3",
   "version": "3.7.4"
  }
 },
 "nbformat": 4,
 "nbformat_minor": 2
}
