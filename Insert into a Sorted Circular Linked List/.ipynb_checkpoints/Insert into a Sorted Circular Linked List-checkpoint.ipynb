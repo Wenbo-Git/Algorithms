{
 "cells": [
  {
   "cell_type": "markdown",
   "metadata": {},
   "source": [
    "#### https://leetcode.com/problems/insert-into-a-sorted-circular-linked-list"
   ]
  },
  {
   "cell_type": "code",
   "execution_count": 1,
   "metadata": {},
   "outputs": [],
   "source": [
    "class Node:\n",
    "    def __init__(self, val=None, next=None):\n",
    "        self.val = val\n",
    "        self.next = next\n",
    "\n",
    "class Solution:\n",
    "    def insert(self, head: 'Node', insertVal: int) -> 'Node':\n",
    "        if head is None:\n",
    "            head = Node(insertVal)\n",
    "            head.next = head\n",
    "            return head\n",
    "        prev, curr = head, head.next\n",
    "        while curr != head:\n",
    "            if (curr.val > insertVal and prev.val <= insertVal) or\\\n",
    "            (curr.val < prev.val and (curr.val >= insertVal or prev.val <= insertVal)):\n",
    "                prev.next = Node(insertVal, curr)\n",
    "                return head\n",
    "            prev, curr = curr, curr.next\n",
    "        prev.next = Node(insertVal, curr)\n",
    "        return head"
   ]
  },
  {
   "cell_type": "code",
   "execution_count": 6,
   "metadata": {},
   "outputs": [
    {
     "name": "stdout",
     "output_type": "stream",
     "text": [
      "4\n",
      "1\n",
      "2\n",
      "3\n",
      "4\n",
      "1\n",
      "2\n",
      "3\n"
     ]
    }
   ],
   "source": [
    "n1 = Node(3)\n",
    "n2 = Node(4)\n",
    "n3 = Node(1)\n",
    "\n",
    "n1.next = n2\n",
    "n2.next = n3\n",
    "n3.next = n1\n",
    "\n",
    "ret = Solution().insert(n1, 2)\n",
    "print(ret.next.val)\n",
    "print(ret.next.next.val)\n",
    "print(ret.next.next.next.val)\n",
    "print(ret.next.next.next.next.val)\n",
    "print(ret.next.next.next.next.next.val)\n",
    "print(ret.next.next.next.next.next.next.val)\n",
    "print(ret.next.next.next.next.next.next.next.val)\n",
    "print(ret.next.next.next.next.next.next.next.next.val)"
   ]
  }
 ],
 "metadata": {
  "kernelspec": {
   "display_name": "Python 3",
   "language": "python",
   "name": "python3"
  },
  "language_info": {
   "codemirror_mode": {
    "name": "ipython",
    "version": 3
   },
   "file_extension": ".py",
   "mimetype": "text/x-python",
   "name": "python",
   "nbconvert_exporter": "python",
   "pygments_lexer": "ipython3",
   "version": "3.7.4"
  }
 },
 "nbformat": 4,
 "nbformat_minor": 2
}
