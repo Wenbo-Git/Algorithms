{
 "cells": [
  {
   "cell_type": "markdown",
   "metadata": {},
   "source": [
    "#### https://leetcode.com/problems/regular-expression-matching"
   ]
  },
  {
   "cell_type": "code",
   "execution_count": 2,
   "metadata": {},
   "outputs": [],
   "source": [
    "class Solution:\n",
    "    def isMatch(self, s: str, p: str) -> bool:\n",
    "        s, p = \"?\" + s, \"?\" + p\n",
    "        m, n = len(s), len(p)\n",
    "        dp = [[False for _ in range (n)] for _ in range (m)]\n",
    "        dp[0][0] = True\n",
    "        \n",
    "        for j in range(1, n):\n",
    "            if p[j] == '*':\n",
    "                dp[0][j] = dp[0][j - 2]\n",
    "        \n",
    "        for i in range(1, m):\n",
    "            for j in range(1, n):\n",
    "                if p[j] == s[i] or p[j] == '.':\n",
    "                    dp[i][j] = dp[i - 1][j - 1]\n",
    "                elif p[j] == '*':\n",
    "                    if  p[j - 1] == '.' or p[j - 1] == s[i]:\n",
    "                        dp[i][j] = dp[i][j - 2] or dp[i - 1][j]\n",
    "                    else:\n",
    "                        dp[i][j] = dp[i][j - 2]\n",
    "        \n",
    "        return dp[m - 1][n - 1]"
   ]
  },
  {
   "cell_type": "code",
   "execution_count": 7,
   "metadata": {},
   "outputs": [
    {
     "data": {
      "text/plain": [
       "True"
      ]
     },
     "execution_count": 7,
     "metadata": {},
     "output_type": "execute_result"
    }
   ],
   "source": [
    "Solution().isMatch(\"aabc\", \"a*.c\")"
   ]
  }
 ],
 "metadata": {
  "kernelspec": {
   "display_name": "Python 3",
   "language": "python",
   "name": "python3"
  },
  "language_info": {
   "codemirror_mode": {
    "name": "ipython",
    "version": 3
   },
   "file_extension": ".py",
   "mimetype": "text/x-python",
   "name": "python",
   "nbconvert_exporter": "python",
   "pygments_lexer": "ipython3",
   "version": "3.7.4"
  }
 },
 "nbformat": 4,
 "nbformat_minor": 2
}
