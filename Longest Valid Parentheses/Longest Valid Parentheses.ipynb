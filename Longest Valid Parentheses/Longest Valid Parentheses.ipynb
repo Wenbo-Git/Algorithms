{
 "cells": [
  {
   "cell_type": "markdown",
   "metadata": {},
   "source": [
    "#### https://leetcode.com/problems/longest-valid-parentheses"
   ]
  },
  {
   "cell_type": "code",
   "execution_count": 1,
   "metadata": {},
   "outputs": [],
   "source": [
    "class Solution:\n",
    "    def longestValidParentheses(self, s: str) -> int:\n",
    "        stack = []\n",
    "        for i in range(len(s)):\n",
    "            if s[i] == \"(\":\n",
    "                stack.append(i)\n",
    "            elif stack and s[stack[-1]] == \"(\":\n",
    "                stack.pop()\n",
    "            else:\n",
    "                stack.append(i)\n",
    "        if not stack:\n",
    "            return len(s)\n",
    "        elif len(stack) == 1:\n",
    "            return max(len(s) - stack[0] - 1, stack[0])\n",
    "        else:\n",
    "            max_diff = stack[0]\n",
    "            for i in range(1, len(stack)):\n",
    "                diff = stack[i] - stack[i -1] - 1\n",
    "                if diff > max_diff:\n",
    "                    max_diff = diff\n",
    "            tmp = len(s) - stack[-1] - 1\n",
    "            if tmp > 1:\n",
    "                max_diff = max(max_diff, tmp)\n",
    "            return max_diff"
   ]
  },
  {
   "cell_type": "code",
   "execution_count": 2,
   "metadata": {},
   "outputs": [
    {
     "data": {
      "text/plain": [
       "2"
      ]
     },
     "execution_count": 2,
     "metadata": {},
     "output_type": "execute_result"
    }
   ],
   "source": [
    "Solution().longestValidParentheses(\"(()\")"
   ]
  }
 ],
 "metadata": {
  "kernelspec": {
   "display_name": "Python 3",
   "language": "python",
   "name": "python3"
  },
  "language_info": {
   "codemirror_mode": {
    "name": "ipython",
    "version": 3
   },
   "file_extension": ".py",
   "mimetype": "text/x-python",
   "name": "python",
   "nbconvert_exporter": "python",
   "pygments_lexer": "ipython3",
   "version": "3.7.4"
  }
 },
 "nbformat": 4,
 "nbformat_minor": 2
}
