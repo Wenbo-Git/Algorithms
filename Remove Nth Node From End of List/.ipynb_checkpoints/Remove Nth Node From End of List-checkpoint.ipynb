{
 "cells": [
  {
   "cell_type": "markdown",
   "metadata": {},
   "source": [
    "#### https://leetcode.com/problems/remove-nth-node-from-end-of-list"
   ]
  },
  {
   "cell_type": "code",
   "execution_count": 1,
   "metadata": {},
   "outputs": [],
   "source": [
    "class ListNode(object):\n",
    "    def __init__(self, x):\n",
    "        self.val = x\n",
    "        self.next = None\n",
    "\n",
    "class Solution(object):\n",
    "    def removeNthFromEnd(self, head, n):\n",
    "        \"\"\"\n",
    "        :type head: ListNode\n",
    "        :type n: int\n",
    "        :rtype: ListNode\n",
    "        \"\"\"\n",
    "        list_ptr = []\n",
    "        current = head\n",
    "        while current is not None:\n",
    "            list_ptr.append(current)\n",
    "            current = current.next\n",
    "        total = len(list_ptr)\n",
    "        if total == 1:\n",
    "            head = None\n",
    "        elif total - n - 1 < 0:\n",
    "            head = head.next\n",
    "        elif total - n + 1 >= total:\n",
    "            list_ptr[total -n -1].next = None\n",
    "        else:\n",
    "            list_ptr[total - n - 1].next = list_ptr[total - n + 1]\n",
    "        return head"
   ]
  },
  {
   "cell_type": "code",
   "execution_count": 2,
   "metadata": {},
   "outputs": [
    {
     "name": "stdout",
     "output_type": "stream",
     "text": [
      "1\n",
      "2\n",
      "3\n",
      "5\n"
     ]
    }
   ],
   "source": [
    "[1,2,3,4,5]\n",
    "2\n",
    "\n",
    "n1 = ListNode(1)\n",
    "n2 = ListNode(2)\n",
    "n3 = ListNode(3)\n",
    "n4 = ListNode(4)\n",
    "n5 = ListNode(5)\n",
    "\n",
    "n1.next = n2\n",
    "n2.next = n3\n",
    "n3.next = n4\n",
    "n4.next = n5\n",
    "\n",
    "ret = Solution().removeNthFromEnd(n1, 2)\n",
    "\n",
    "print(ret.val)\n",
    "print(ret.next.val)\n",
    "print(ret.next.next.val)\n",
    "print(ret.next.next.next.val)"
   ]
  }
 ],
 "metadata": {
  "kernelspec": {
   "display_name": "Python 3",
   "language": "python",
   "name": "python3"
  },
  "language_info": {
   "codemirror_mode": {
    "name": "ipython",
    "version": 3
   },
   "file_extension": ".py",
   "mimetype": "text/x-python",
   "name": "python",
   "nbconvert_exporter": "python",
   "pygments_lexer": "ipython3",
   "version": "3.7.4"
  }
 },
 "nbformat": 4,
 "nbformat_minor": 2
}
