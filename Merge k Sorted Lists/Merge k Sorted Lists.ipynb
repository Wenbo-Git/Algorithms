{
 "cells": [
  {
   "cell_type": "markdown",
   "metadata": {},
   "source": [
    "#### https://leetcode.com/problems/merge-k-sorted-lists"
   ]
  },
  {
   "cell_type": "code",
   "execution_count": 5,
   "metadata": {},
   "outputs": [],
   "source": [
    "class ListNode:\n",
    "    def __init__(self, x):\n",
    "        self.val = x\n",
    "        self.next = None\n",
    "\n",
    "class Solution:\n",
    "    def mergeKLists(self, lists) -> ListNode:\n",
    "        if lists == []:\n",
    "            return None\n",
    "        array = []\n",
    "        for head in lists:\n",
    "            node = head\n",
    "            while node is not None:\n",
    "                array.append(node.val)\n",
    "                node = node.next\n",
    "        if array == []:\n",
    "            return None\n",
    "        array.sort()\n",
    "        ret = ListNode(array[0])\n",
    "        node = ret\n",
    "        for i in range(1, len(array)):\n",
    "            node.next = ListNode(array[i])\n",
    "            node = node.next\n",
    "        return ret"
   ]
  },
  {
   "cell_type": "code",
   "execution_count": 6,
   "metadata": {},
   "outputs": [
    {
     "name": "stdout",
     "output_type": "stream",
     "text": [
      "1\n",
      "1\n",
      "2\n",
      "3\n",
      "4\n",
      "4\n",
      "5\n",
      "6\n"
     ]
    }
   ],
   "source": [
    "n1 = ListNode(1)\n",
    "n1.next = ListNode(4)\n",
    "n1.next.next = ListNode(5)\n",
    "\n",
    "n2 = ListNode(1)\n",
    "n2.next = ListNode(3)\n",
    "n2.next.next = ListNode(4)\n",
    "\n",
    "n3 = ListNode(2)\n",
    "n3.next = ListNode(6)\n",
    "\n",
    "n = curr = Solution().mergeKLists([n1, n2, n3])\n",
    "while curr:\n",
    "    print(curr.val)\n",
    "    curr = curr.next"
   ]
  }
 ],
 "metadata": {
  "kernelspec": {
   "display_name": "Python 3",
   "language": "python",
   "name": "python3"
  },
  "language_info": {
   "codemirror_mode": {
    "name": "ipython",
    "version": 3
   },
   "file_extension": ".py",
   "mimetype": "text/x-python",
   "name": "python",
   "nbconvert_exporter": "python",
   "pygments_lexer": "ipython3",
   "version": "3.8.3"
  }
 },
 "nbformat": 4,
 "nbformat_minor": 2
}
