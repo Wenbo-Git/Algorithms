{
 "cells": [
  {
   "cell_type": "markdown",
   "metadata": {},
   "source": [
    "#### https://leetcode.com/problems/binary-tree-coloring-game"
   ]
  },
  {
   "cell_type": "code",
   "execution_count": 1,
   "metadata": {},
   "outputs": [],
   "source": [
    "class TreeNode:\n",
    "    def __init__(self, x):\n",
    "        self.val = x\n",
    "        self.left = None\n",
    "        self.right = None\n",
    "\n",
    "def btreeGameWinningMove(root, n, x):\n",
    "    def find_size(root):\n",
    "        if not root:\n",
    "            return 0\n",
    "        left_num = right_num = 0\n",
    "        if root.left:\n",
    "            left_num = find_size(root.left)\n",
    "        if root.right:\n",
    "            right_num = find_size(root.right)\n",
    "        return left_num + right_num + 1\n",
    "\n",
    "    def search(root, x):\n",
    "        if not root:\n",
    "            return None\n",
    "        if root.val == x:\n",
    "            return root\n",
    "        left = right = None\n",
    "        if root.left:\n",
    "            left = search(root.left, x)\n",
    "            if left is not None:\n",
    "                return left\n",
    "        if root.right:\n",
    "            right = search(root.right, x)\n",
    "            if right is not None:\n",
    "                return right\n",
    "\n",
    "    X = search(root, x)\n",
    "    l = find_size(X.left)\n",
    "    r = find_size(X.right)\n",
    "    p = n - l - r - 1\n",
    "    return max([l, r, p]) > n / 2"
   ]
  },
  {
   "cell_type": "code",
   "execution_count": 2,
   "metadata": {},
   "outputs": [],
   "source": [
    "root = TreeNode(1)\n",
    "n2 = TreeNode(2)\n",
    "n3 = TreeNode(3)\n",
    "n4 = TreeNode(4)\n",
    "n5 = TreeNode(5)\n",
    "n6 = TreeNode(6)\n",
    "n7 = TreeNode(7)\n",
    "n8 = TreeNode(8)\n",
    "n9 = TreeNode(9)\n",
    "n10 = TreeNode(10)\n",
    "n11 = TreeNode(11)\n",
    "\n",
    "root.left = n2\n",
    "root.right = n3\n",
    "n2.left = n4\n",
    "n2.right = n5\n",
    "n3.left = n6\n",
    "n3.right = n7\n",
    "n4.left = n8\n",
    "n4.right = n9\n",
    "n5.left = n10\n",
    "n5.right = n11"
   ]
  },
  {
   "cell_type": "code",
   "execution_count": 3,
   "metadata": {},
   "outputs": [
    {
     "name": "stdout",
     "output_type": "stream",
     "text": [
      "True\n"
     ]
    }
   ],
   "source": [
    "print(btreeGameWinningMove(root, 11, 3))"
   ]
  }
 ],
 "metadata": {
  "kernelspec": {
   "display_name": "Python 3",
   "language": "python",
   "name": "python3"
  },
  "language_info": {
   "codemirror_mode": {
    "name": "ipython",
    "version": 3
   },
   "file_extension": ".py",
   "mimetype": "text/x-python",
   "name": "python",
   "nbconvert_exporter": "python",
   "pygments_lexer": "ipython3",
   "version": "3.7.4"
  }
 },
 "nbformat": 4,
 "nbformat_minor": 2
}
