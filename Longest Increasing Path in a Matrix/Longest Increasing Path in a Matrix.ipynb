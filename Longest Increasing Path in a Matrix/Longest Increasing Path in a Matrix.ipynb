{
 "cells": [
  {
   "cell_type": "markdown",
   "metadata": {},
   "source": [
    "#### https://leetcode.com/problems/longest-increasing-path-in-a-matrix"
   ]
  },
  {
   "cell_type": "code",
   "execution_count": 1,
   "metadata": {},
   "outputs": [],
   "source": [
    "def longestIncreasingPath(matrix):\n",
    "    if not matrix:\n",
    "        return 0\n",
    "    m, n = len(matrix), len(matrix[0])\n",
    "\n",
    "    def helper(x, y):\n",
    "        if (x, y) in cache:\n",
    "            return cache[(x, y)]\n",
    "        max_val = 0\n",
    "        steps = [(0, 1), (0, -1), (-1, 0), (1, 0)]\n",
    "        for step in steps:\n",
    "            next_x, next_y = x + step[0], y + step[1]\n",
    "            if 0 <= next_x < m and 0 <= next_y < n and matrix[x][y] < matrix[next_x][next_y]:\n",
    "                max_val = max(max_val, helper(next_x, next_y) + 1)\n",
    "        cache[(x, y)] = max_val\n",
    "        return max_val\n",
    "\n",
    "    max_val = 0\n",
    "    cache = {}\n",
    "    for i in range(m):\n",
    "        for j in range(n):\n",
    "            max_val = max(max_val, helper(i, j) + 1)       \n",
    "    return max_val"
   ]
  },
  {
   "cell_type": "code",
   "execution_count": 2,
   "metadata": {},
   "outputs": [
    {
     "name": "stdout",
     "output_type": "stream",
     "text": [
      "4\n"
     ]
    }
   ],
   "source": [
    "print(longestIncreasingPath([[9,9,4],[6,6,8],[2,1,1]]))"
   ]
  }
 ],
 "metadata": {
  "kernelspec": {
   "display_name": "Python 3",
   "language": "python",
   "name": "python3"
  },
  "language_info": {
   "codemirror_mode": {
    "name": "ipython",
    "version": 3
   },
   "file_extension": ".py",
   "mimetype": "text/x-python",
   "name": "python",
   "nbconvert_exporter": "python",
   "pygments_lexer": "ipython3",
   "version": "3.7.4"
  }
 },
 "nbformat": 4,
 "nbformat_minor": 2
}
