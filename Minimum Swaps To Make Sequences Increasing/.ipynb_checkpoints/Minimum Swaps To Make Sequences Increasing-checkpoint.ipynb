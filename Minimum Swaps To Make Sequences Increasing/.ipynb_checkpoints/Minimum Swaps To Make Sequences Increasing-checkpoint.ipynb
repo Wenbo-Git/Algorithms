{
 "cells": [
  {
   "cell_type": "markdown",
   "metadata": {},
   "source": [
    "#### https://leetcode.com/problems/minimum-swaps-to-make-sequences-increasing"
   ]
  },
  {
   "cell_type": "code",
   "execution_count": 4,
   "metadata": {},
   "outputs": [],
   "source": [
    "import math\n",
    "class Solution:\n",
    "    def minSwap(self, A, B):\n",
    "        N = len(A)\n",
    "        dp = [[math.inf, math.inf] for _ in range(N)]\n",
    "        dp[0][0], dp[0][1] = 0, 1\n",
    "        for i in range(N - 1):\n",
    "            if A[i] < A[i + 1] and B[i] < B[i + 1]:\n",
    "                dp[i + 1][0] = min(dp[i + 1][0], dp[i][0])\n",
    "                dp[i + 1][1] = min(dp[i + 1][1], dp[i][1] + 1)\n",
    "            if B[i] < A[i + 1] and A[i] < B[i + 1]:\n",
    "                dp[i + 1][0] = min(dp[i + 1][0], dp[i][1])\n",
    "                dp[i + 1][1] = min(dp[i + 1][1], dp[i][0] + 1)\n",
    "        return min(dp[N - 1][0], dp[N - 1][1])"
   ]
  },
  {
   "cell_type": "code",
   "execution_count": 5,
   "metadata": {},
   "outputs": [
    {
     "data": {
      "text/plain": [
       "1"
      ]
     },
     "execution_count": 5,
     "metadata": {},
     "output_type": "execute_result"
    }
   ],
   "source": [
    "Solution().minSwap([1,3,5,4], [1,2,3,7])"
   ]
  }
 ],
 "metadata": {
  "kernelspec": {
   "display_name": "Python 3",
   "language": "python",
   "name": "python3"
  },
  "language_info": {
   "codemirror_mode": {
    "name": "ipython",
    "version": 3
   },
   "file_extension": ".py",
   "mimetype": "text/x-python",
   "name": "python",
   "nbconvert_exporter": "python",
   "pygments_lexer": "ipython3",
   "version": "3.7.4"
  }
 },
 "nbformat": 4,
 "nbformat_minor": 2
}
