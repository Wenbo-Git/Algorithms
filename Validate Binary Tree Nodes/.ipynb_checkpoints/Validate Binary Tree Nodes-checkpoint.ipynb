{
 "cells": [
  {
   "cell_type": "markdown",
   "metadata": {},
   "source": [
    "#### https://leetcode.com/problems/validate-binary-tree-nodes"
   ]
  },
  {
   "cell_type": "code",
   "execution_count": 2,
   "metadata": {},
   "outputs": [],
   "source": [
    "class Solution:\n",
    "    def validateBinaryTreeNodes(self, n, leftChild, rightChild):\n",
    "        l = len(leftChild)\n",
    "        marks = [0] * n\n",
    "        for i in range(l):\n",
    "            lv = leftChild[i]\n",
    "            if lv != -1:\n",
    "                marks[lv] = 1\n",
    "                if leftChild[lv] == i:\n",
    "                    return False\n",
    "            rv = rightChild[i]\n",
    "            if rv != -1:\n",
    "                marks[rv] = 1\n",
    "                if rightChild[rv] == i:\n",
    "                    return False\n",
    "        for k in range(1, n):\n",
    "            if marks[k] == 0 or (k in leftChild and k in rightChild):\n",
    "                return False\n",
    "        return True"
   ]
  },
  {
   "cell_type": "code",
   "execution_count": 3,
   "metadata": {},
   "outputs": [
    {
     "data": {
      "text/plain": [
       "True"
      ]
     },
     "execution_count": 3,
     "metadata": {},
     "output_type": "execute_result"
    }
   ],
   "source": [
    "Solution().validateBinaryTreeNodes(4, [1,-1,3,-1], [2,-1,-1,-1])"
   ]
  }
 ],
 "metadata": {
  "kernelspec": {
   "display_name": "Python 3",
   "language": "python",
   "name": "python3"
  },
  "language_info": {
   "codemirror_mode": {
    "name": "ipython",
    "version": 3
   },
   "file_extension": ".py",
   "mimetype": "text/x-python",
   "name": "python",
   "nbconvert_exporter": "python",
   "pygments_lexer": "ipython3",
   "version": "3.7.4"
  }
 },
 "nbformat": 4,
 "nbformat_minor": 2
}
