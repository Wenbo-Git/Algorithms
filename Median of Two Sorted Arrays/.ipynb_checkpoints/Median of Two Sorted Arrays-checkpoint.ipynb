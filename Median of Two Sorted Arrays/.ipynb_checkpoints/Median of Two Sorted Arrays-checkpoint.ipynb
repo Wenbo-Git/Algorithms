{
 "cells": [
  {
   "cell_type": "markdown",
   "metadata": {},
   "source": [
    "#### https://leetcode.com/problems/median-of-two-sorted-arrays"
   ]
  },
  {
   "cell_type": "code",
   "execution_count": 4,
   "metadata": {},
   "outputs": [],
   "source": [
    "import math\n",
    "class Solution:\n",
    "    def findMedianSortedArrays(self, nums1, nums2) -> float:\n",
    "        res = []\n",
    "        while nums1 or nums2:\n",
    "            if not nums1:\n",
    "                res += nums2\n",
    "                nums2.clear()\n",
    "            elif not nums2:\n",
    "                res += nums1\n",
    "                nums1.clear()\n",
    "            elif nums1[0] <= nums2[0]:\n",
    "                res.append(nums1.pop(0))\n",
    "            else:\n",
    "                res.append(nums2.pop(0))\n",
    "        if len(res) % 2 == 0:\n",
    "            return (res[int(len(res)/2)-1]+res[int(len(res)/2)])/2\n",
    "        else:\n",
    "            return res[math.floor(len(res)/2)]"
   ]
  },
  {
   "cell_type": "code",
   "execution_count": 5,
   "metadata": {},
   "outputs": [
    {
     "data": {
      "text/plain": [
       "2"
      ]
     },
     "execution_count": 5,
     "metadata": {},
     "output_type": "execute_result"
    }
   ],
   "source": [
    "Solution().findMedianSortedArrays([1,3], [2])"
   ]
  }
 ],
 "metadata": {
  "kernelspec": {
   "display_name": "Python 3",
   "language": "python",
   "name": "python3"
  },
  "language_info": {
   "codemirror_mode": {
    "name": "ipython",
    "version": 3
   },
   "file_extension": ".py",
   "mimetype": "text/x-python",
   "name": "python",
   "nbconvert_exporter": "python",
   "pygments_lexer": "ipython3",
   "version": "3.7.4"
  }
 },
 "nbformat": 4,
 "nbformat_minor": 2
}
