{
 "cells": [
  {
   "cell_type": "markdown",
   "metadata": {},
   "source": [
    "#### https://leetcode.com/problems/unique-binary-search-trees"
   ]
  },
  {
   "cell_type": "code",
   "execution_count": 1,
   "metadata": {},
   "outputs": [],
   "source": [
    "class Solution:\n",
    "    def numTrees(self, n: int) -> int:\n",
    "        dp = [0] * (n + 1)\n",
    "        dp[0], dp[1] = 1, 1\n",
    "        for i in range(2, n + 1):\n",
    "            res = 0\n",
    "            for j in range(1, i + 1):\n",
    "                res += dp[j - 1] * dp[i - j]\n",
    "            dp[i] = res \n",
    "        return dp[n]\n",
    "    \n",
    "    ### recursion + cache causes TLE ###\n",
    "    '''\n",
    "    def numTrees(self, n: int) -> int:\n",
    "        cache = {}\n",
    "        def helper(n):\n",
    "            if n == 0:\n",
    "                return 0\n",
    "            elif n == 1:\n",
    "                return 1\n",
    "            elif n == 2:\n",
    "                return 2\n",
    "            elif n == 3:\n",
    "                return 5\n",
    "            \n",
    "            if n in cache:\n",
    "                return cache[n]\n",
    "            \n",
    "            ret = 0\n",
    "            for i in range(1, n + 1):\n",
    "                l = self.numTrees(i - 1)\n",
    "                r = self.numTrees(n - i)\n",
    "                if l == 0:\n",
    "                    ret += r\n",
    "                elif r == 0:\n",
    "                    ret += l\n",
    "                else:\n",
    "                    ret += l * r\n",
    "            cache[n] = ret\n",
    "            return ret\n",
    "        return helper(n)\n",
    "    '''"
   ]
  },
  {
   "cell_type": "code",
   "execution_count": 2,
   "metadata": {},
   "outputs": [
    {
     "data": {
      "text/plain": [
       "5"
      ]
     },
     "execution_count": 2,
     "metadata": {},
     "output_type": "execute_result"
    }
   ],
   "source": [
    "Solution().numTrees(3)"
   ]
  }
 ],
 "metadata": {
  "kernelspec": {
   "display_name": "Python 3",
   "language": "python",
   "name": "python3"
  },
  "language_info": {
   "codemirror_mode": {
    "name": "ipython",
    "version": 3
   },
   "file_extension": ".py",
   "mimetype": "text/x-python",
   "name": "python",
   "nbconvert_exporter": "python",
   "pygments_lexer": "ipython3",
   "version": "3.7.4"
  }
 },
 "nbformat": 4,
 "nbformat_minor": 2
}
