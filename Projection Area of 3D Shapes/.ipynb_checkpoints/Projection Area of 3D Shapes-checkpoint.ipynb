{
 "cells": [
  {
   "cell_type": "markdown",
   "metadata": {},
   "source": [
    "#### https://leetcode.com/problems/projection-area-of-3d-shapes"
   ]
  },
  {
   "cell_type": "code",
   "execution_count": 1,
   "metadata": {},
   "outputs": [],
   "source": [
    "class Solution(object):\n",
    "    def projectionArea(self, grid):\n",
    "        m = len(grid)\n",
    "        n = len(grid[0])\n",
    "        xy_area = 0\n",
    "        xz_area = 0\n",
    "        for i in range(m):\n",
    "            max_num = 0\n",
    "            for j in range(n):\n",
    "                max_num = max(grid[i][j], max_num)\n",
    "                \n",
    "                if grid[i][j] > 0:\n",
    "                    xy_area += 1\n",
    "                \n",
    "            xz_area += max_num\n",
    "            \n",
    "        yz_area = 0\n",
    "        for j in range(n):\n",
    "            max_num = 0\n",
    "            for i in range(m):\n",
    "                max_num = max(grid[i][j], max_num)\n",
    "            yz_area += max_num\n",
    "            \n",
    "        return xy_area + xz_area + yz_area"
   ]
  },
  {
   "cell_type": "code",
   "execution_count": 2,
   "metadata": {},
   "outputs": [
    {
     "data": {
      "text/plain": [
       "5"
      ]
     },
     "execution_count": 2,
     "metadata": {},
     "output_type": "execute_result"
    }
   ],
   "source": [
    "Solution().projectionArea([[2]])"
   ]
  }
 ],
 "metadata": {
  "kernelspec": {
   "display_name": "Python 3",
   "language": "python",
   "name": "python3"
  },
  "language_info": {
   "codemirror_mode": {
    "name": "ipython",
    "version": 3
   },
   "file_extension": ".py",
   "mimetype": "text/x-python",
   "name": "python",
   "nbconvert_exporter": "python",
   "pygments_lexer": "ipython3",
   "version": "3.7.4"
  }
 },
 "nbformat": 4,
 "nbformat_minor": 2
}
