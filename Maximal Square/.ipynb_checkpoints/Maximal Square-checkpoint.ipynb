{
 "cells": [
  {
   "cell_type": "markdown",
   "metadata": {},
   "source": [
    "#### https://leetcode.com/problems/maximal-square"
   ]
  },
  {
   "cell_type": "code",
   "execution_count": 1,
   "metadata": {},
   "outputs": [],
   "source": [
    "def maximalSquare(matrix):\n",
    "    '''\n",
    "    matrix:\n",
    "\n",
    "      1 1 1 0 0\n",
    "      1 1 1 1 0\n",
    "      1 1 1 1 0\n",
    "      0 1 1 1 0\n",
    "      0 0 0 0 0\n",
    "\n",
    "    dp:\n",
    "\n",
    "    0 0 0 0 0 0\n",
    "    0 1 1 1 0 0\n",
    "    0 1 2 2 1 0\n",
    "    0 1 2 3 2 0\n",
    "    0 0 1 2 x 0\n",
    "    0 0 0 0 0 0\n",
    "\n",
    "    x = min(3, 2, 2) + 1\n",
    "    '''\n",
    "    if not matrix:\n",
    "        return 0\n",
    "    m, n = len(matrix), len(matrix[0])\n",
    "    dp = [[0] * (n + 1) for _ in range(m + 1)]\n",
    "    max_len = 0\n",
    "    for i in range(1, m + 1):\n",
    "        for j in range(1, n + 1):\n",
    "            if matrix[i - 1][j - 1] == \"1\":\n",
    "                dp[i][j] = min(dp[i - 1][j - 1], dp[i][j - 1], dp[i - 1][j]) + 1\n",
    "                max_len = max(max_len, dp[i][j])\n",
    "    return max_len ** 2"
   ]
  },
  {
   "cell_type": "code",
   "execution_count": 2,
   "metadata": {},
   "outputs": [
    {
     "name": "stdout",
     "output_type": "stream",
     "text": [
      "4\n"
     ]
    }
   ],
   "source": [
    "matrix = [[\"1\",\"0\",\"1\",\"0\",\"0\"],[\"1\",\"0\",\"1\",\"1\",\"1\"],[\"1\",\"1\",\"1\",\"1\",\"1\"],[\"1\",\"0\",\"0\",\"1\",\"0\"]]\n",
    "print(maximalSquare(matrix))"
   ]
  }
 ],
 "metadata": {
  "kernelspec": {
   "display_name": "Python 3",
   "language": "python",
   "name": "python3"
  },
  "language_info": {
   "codemirror_mode": {
    "name": "ipython",
    "version": 3
   },
   "file_extension": ".py",
   "mimetype": "text/x-python",
   "name": "python",
   "nbconvert_exporter": "python",
   "pygments_lexer": "ipython3",
   "version": "3.7.4"
  }
 },
 "nbformat": 4,
 "nbformat_minor": 2
}
