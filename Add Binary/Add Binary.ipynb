{
 "cells": [
  {
   "cell_type": "markdown",
   "metadata": {},
   "source": [
    "#### https://leetcode.com/problems/add-binary"
   ]
  },
  {
   "cell_type": "code",
   "execution_count": 1,
   "metadata": {},
   "outputs": [],
   "source": [
    "class Solution:\n",
    "    def addBinary(self, a: str, b: str) -> str:\n",
    "        m, n = len(a), len(b)\n",
    "        if m > n:\n",
    "            b = \"0\" * (m - n) + b\n",
    "        if n > m:\n",
    "            a = \"0\" * (n - m) + a\n",
    "        ret = \"\"\n",
    "        carry = 0\n",
    "        for i in range(len(a) - 1, -1, -1):\n",
    "            c = int(a[i]) + int(b[i]) + carry\n",
    "            ret = str(c % 2) + ret\n",
    "            carry = c // 2\n",
    "        if carry == 1:\n",
    "            ret = \"1\" + ret\n",
    "        return ret"
   ]
  },
  {
   "cell_type": "code",
   "execution_count": 2,
   "metadata": {},
   "outputs": [
    {
     "data": {
      "text/plain": [
       "'100'"
      ]
     },
     "execution_count": 2,
     "metadata": {},
     "output_type": "execute_result"
    }
   ],
   "source": [
    "Solution().addBinary(\"11\", \"1\")"
   ]
  }
 ],
 "metadata": {
  "kernelspec": {
   "display_name": "Python 3",
   "language": "python",
   "name": "python3"
  },
  "language_info": {
   "codemirror_mode": {
    "name": "ipython",
    "version": 3
   },
   "file_extension": ".py",
   "mimetype": "text/x-python",
   "name": "python",
   "nbconvert_exporter": "python",
   "pygments_lexer": "ipython3",
   "version": "3.7.4"
  }
 },
 "nbformat": 4,
 "nbformat_minor": 2
}
