{
 "cells": [
  {
   "cell_type": "markdown",
   "metadata": {},
   "source": [
    "#### https://leetcode.com/problems/add-two-numbers"
   ]
  },
  {
   "cell_type": "code",
   "execution_count": 1,
   "metadata": {},
   "outputs": [],
   "source": [
    "class ListNode:\n",
    "    def __init__(self, x):\n",
    "        self.val = x\n",
    "        self.next = None\n",
    "\n",
    "def addTwoNumbers(l1, l2):\n",
    "    def cal_decimal(l):\n",
    "        l_decimal = 0\n",
    "        decimal_pos = 0\n",
    "        l_ptr = l\n",
    "        l_decimal += l_ptr.val * (10 ** decimal_pos)\n",
    "        while l_ptr.next:\n",
    "            decimal_pos += 1\n",
    "            l_decimal += l_ptr.next.val * (10 ** decimal_pos)\n",
    "            l_ptr = l_ptr.next\n",
    "        return l_decimal\n",
    "    l1_decimal = cal_decimal(l1)\n",
    "    l2_decimal = cal_decimal(l2)\n",
    "    ans = str(l1_decimal + l2_decimal)\n",
    "    n = len(ans)\n",
    "    l3 = ListNode(int(ans[-1]))\n",
    "    l3_ptr = l3\n",
    "    for i in range(n-2, -1, -1):\n",
    "        l3_ptr.next = ListNode(int(ans[i]))\n",
    "        l3_ptr = l3_ptr.next\n",
    "    return l3"
   ]
  },
  {
   "cell_type": "code",
   "execution_count": 2,
   "metadata": {},
   "outputs": [
    {
     "name": "stdout",
     "output_type": "stream",
     "text": [
      "7\n",
      "0\n",
      "8\n"
     ]
    }
   ],
   "source": [
    "l1 = ListNode(2)\n",
    "l1.next = ListNode(4)\n",
    "l1.next.next = ListNode(3)\n",
    "\n",
    "l2 = ListNode(5)\n",
    "l2.next = ListNode(6)\n",
    "l2.next.next = ListNode(4)\n",
    "    \n",
    "ret = curr = addTwoNumbers(l1, l2)\n",
    "while curr:\n",
    "    print(curr.val)\n",
    "    curr = curr.next"
   ]
  }
 ],
 "metadata": {
  "kernelspec": {
   "display_name": "Python 3",
   "language": "python",
   "name": "python3"
  },
  "language_info": {
   "codemirror_mode": {
    "name": "ipython",
    "version": 3
   },
   "file_extension": ".py",
   "mimetype": "text/x-python",
   "name": "python",
   "nbconvert_exporter": "python",
   "pygments_lexer": "ipython3",
   "version": "3.7.4"
  }
 },
 "nbformat": 4,
 "nbformat_minor": 2
}
