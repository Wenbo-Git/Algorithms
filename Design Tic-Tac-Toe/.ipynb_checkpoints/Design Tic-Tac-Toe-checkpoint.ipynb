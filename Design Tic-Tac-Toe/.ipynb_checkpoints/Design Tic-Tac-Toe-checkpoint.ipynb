{
 "cells": [
  {
   "cell_type": "markdown",
   "metadata": {},
   "source": [
    "#### https://leetcode.com/problems/design-tic-tac-toe"
   ]
  },
  {
   "cell_type": "code",
   "execution_count": 3,
   "metadata": {},
   "outputs": [],
   "source": [
    "class TicTacToe:\n",
    "    def __init__(self, n: int):\n",
    "        \"\"\"\n",
    "        Initialize your data structure here.\n",
    "        \"\"\"\n",
    "        self.grid = [[\"z\"] * n for _ in range(n)]\n",
    "        \n",
    "    def move(self, row: int, col: int, player: int) -> int:\n",
    "        \"\"\"\n",
    "        Player {player} makes a move at ({row}, {col}).\n",
    "        @param row The row of the board.\n",
    "        @param col The column of the board.\n",
    "        @param player The player, can be either 1 or 2.\n",
    "        @return The current winning condition, can be either:\n",
    "                0: No one wins.\n",
    "                1: Player 1 wins.\n",
    "                2: Player 2 wins.\n",
    "        \"\"\"\n",
    "        self.grid[row][col] = mark = \"x\" if player == 1 else \"o\"\n",
    "        row_vals, col_vals, diag1, diag2, n = [], [], [], [], len(self.grid)\n",
    "        for i in range(n):\n",
    "            row_vals.append(self.grid[row][i])\n",
    "            col_vals.append(self.grid[i][col])\n",
    "            diag1.append(self.grid[i][i]) \n",
    "            diag2.append(self.grid[i][n - 1 - i])\n",
    "        return player if all(mark == val for val in row_vals) or\\\n",
    "        all(mark == val for val in col_vals) or\\\n",
    "        all(mark == val for val in diag1) or\\\n",
    "        all(mark == val for val in diag2) else 0\n",
    "                \n",
    "# Your TicTacToe object will be instantiated and called as such:\n",
    "# obj = TicTacToe(n)\n",
    "# param_1 = obj.move(row,col,player)"
   ]
  },
  {
   "cell_type": "code",
   "execution_count": 4,
   "metadata": {},
   "outputs": [
    {
     "name": "stdout",
     "output_type": "stream",
     "text": [
      "0\n",
      "0\n",
      "0\n",
      "0\n",
      "0\n",
      "0\n",
      "1\n"
     ]
    }
   ],
   "source": [
    "toe = TicTacToe(3)\n",
    "print(toe.move(0, 0, 1))\n",
    "print(toe.move(0, 2, 2))\n",
    "print(toe.move(2, 2, 1))\n",
    "print(toe.move(1, 1, 2))\n",
    "print(toe.move(2, 0, 1))\n",
    "print(toe.move(1, 0, 2))\n",
    "print(toe.move(2, 1, 1))"
   ]
  }
 ],
 "metadata": {
  "kernelspec": {
   "display_name": "Python 3",
   "language": "python",
   "name": "python3"
  },
  "language_info": {
   "codemirror_mode": {
    "name": "ipython",
    "version": 3
   },
   "file_extension": ".py",
   "mimetype": "text/x-python",
   "name": "python",
   "nbconvert_exporter": "python",
   "pygments_lexer": "ipython3",
   "version": "3.7.4"
  }
 },
 "nbformat": 4,
 "nbformat_minor": 2
}
