{
 "cells": [
  {
   "cell_type": "markdown",
   "metadata": {},
   "source": [
    "#### https://leetcode.com/problems/lowest-common-ancestor-of-a-binary-tree"
   ]
  },
  {
   "cell_type": "code",
   "execution_count": 1,
   "metadata": {},
   "outputs": [],
   "source": [
    "class TreeNode:\n",
    "    def __init__(self, x):\n",
    "        self.val = x\n",
    "        self.left = None\n",
    "        self.right = None\n",
    "\n",
    "class Solution:\n",
    "    def lowestCommonAncestor(self, root: 'TreeNode', p: 'TreeNode', q: 'TreeNode') -> 'TreeNode':\n",
    "        if root is None or root == p or root == q:\n",
    "            return root\n",
    "        l = self.lowestCommonAncestor(root.left, p, q)\n",
    "        r = self.lowestCommonAncestor(root.right, p, q)\n",
    "        if l and r:\n",
    "            return root\n",
    "        elif l is None:\n",
    "            return r\n",
    "        else:\n",
    "            return l"
   ]
  },
  {
   "cell_type": "code",
   "execution_count": 3,
   "metadata": {},
   "outputs": [
    {
     "name": "stdout",
     "output_type": "stream",
     "text": [
      "3\n"
     ]
    }
   ],
   "source": [
    "n1 = TreeNode(3)\n",
    "n2 = TreeNode(5)\n",
    "n3 = TreeNode(1)\n",
    "n4 = TreeNode(6)\n",
    "n5 = TreeNode(2)\n",
    "n6 = TreeNode(0)\n",
    "n7 = TreeNode(8)\n",
    "n8 = TreeNode(7)\n",
    "n9 = TreeNode(4)\n",
    "\n",
    "n1.left, n1.right = n2, n3\n",
    "n2.left, n2.right = n4, n5\n",
    "n3.left, n3.right = n6, n7\n",
    "n5.left, n5.right = n8, n9\n",
    "\n",
    "print(Solution().lowestCommonAncestor(n1, n2, n3).val)"
   ]
  }
 ],
 "metadata": {
  "kernelspec": {
   "display_name": "Python 3",
   "language": "python",
   "name": "python3"
  },
  "language_info": {
   "codemirror_mode": {
    "name": "ipython",
    "version": 3
   },
   "file_extension": ".py",
   "mimetype": "text/x-python",
   "name": "python",
   "nbconvert_exporter": "python",
   "pygments_lexer": "ipython3",
   "version": "3.7.4"
  }
 },
 "nbformat": 4,
 "nbformat_minor": 2
}
