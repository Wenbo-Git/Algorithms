{
 "cells": [
  {
   "cell_type": "markdown",
   "metadata": {},
   "source": [
    "#### https://leetcode.com/problems/clone-graph"
   ]
  },
  {
   "cell_type": "code",
   "execution_count": 1,
   "metadata": {},
   "outputs": [],
   "source": [
    "class Node:\n",
    "    def __init__(self, val, neighbors):\n",
    "        self.val = val\n",
    "        self.neighbors = neighbors\n",
    "\n",
    "class Solution:\n",
    "    def cloneGraph(self, node: 'Node') -> 'Node':\n",
    "        queue = []\n",
    "        visited_nodes = {}\n",
    "        visited_nodes[node] = Node(node.val, [])\n",
    "        queue.append(node)\n",
    "        while len(queue) > 0:\n",
    "            nd = queue.pop(0)\n",
    "            if nd not in visited_nodes:\n",
    "                visited_nodes[nd] = Node(nd.val, [])\n",
    "            for nb in nd.neighbors:\n",
    "                if nb not in visited_nodes:\n",
    "                    visited_nodes[nb] = Node(nb.val, [])\n",
    "                    queue.append(nb)\n",
    "                visited_nodes[nd].neighbors.append(visited_nodes[nb])\n",
    "        return visited_nodes[node]"
   ]
  },
  {
   "cell_type": "code",
   "execution_count": 2,
   "metadata": {},
   "outputs": [],
   "source": [
    "n1 = Node(1, [])\n",
    "n2 = Node(2, [])\n",
    "n3 = Node(3, [])\n",
    "n4 = Node(4, [])\n",
    "\n",
    "n1.neighbors = [n2, n4]\n",
    "n2.neighbors = [n1, n3]\n",
    "n3.neighbors = [n2, n4]\n",
    "n4.neighbors = [n1, n3]\n",
    "\n",
    "c1 = Solution().cloneGraph(n1)\n",
    "c2, c4 = c1.neighbors\n",
    "c3 = c2.neighbors[1]"
   ]
  },
  {
   "cell_type": "code",
   "execution_count": 3,
   "metadata": {},
   "outputs": [
    {
     "name": "stdout",
     "output_type": "stream",
     "text": [
      "Node 1: val = 1, neighbors = [2, 4]\n",
      "Node 2: val = 2, neighbors = [1, 3]\n",
      "Node 3: val = 3, neighbors = [2, 4]\n",
      "Node 4: val = 4, neighbors = [1, 3]\n"
     ]
    }
   ],
   "source": [
    "c_nodes = [c1, c2, c3, c4]\n",
    "for i in range(len(c_nodes)):\n",
    "    print(\"Node {0}: val = {1}, neighbors = [{2}, {3}]\".format(i + 1,\\\n",
    "                                                               c_nodes[i].val,\\\n",
    "                                                               c_nodes[i].neighbors[0].val,\\\n",
    "                                                               c_nodes[i].neighbors[1].val))"
   ]
  }
 ],
 "metadata": {
  "kernelspec": {
   "display_name": "Python 3",
   "language": "python",
   "name": "python3"
  },
  "language_info": {
   "codemirror_mode": {
    "name": "ipython",
    "version": 3
   },
   "file_extension": ".py",
   "mimetype": "text/x-python",
   "name": "python",
   "nbconvert_exporter": "python",
   "pygments_lexer": "ipython3",
   "version": "3.7.4"
  }
 },
 "nbformat": 4,
 "nbformat_minor": 2
}
