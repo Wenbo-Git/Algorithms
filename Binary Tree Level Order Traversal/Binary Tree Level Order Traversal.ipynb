{
 "cells": [
  {
   "cell_type": "markdown",
   "metadata": {},
   "source": [
    "#### https://leetcode.com/problems/binary-tree-level-order-traversal"
   ]
  },
  {
   "cell_type": "code",
   "execution_count": 1,
   "metadata": {},
   "outputs": [],
   "source": [
    "class TreeNode:\n",
    "    def __init__(self, x):\n",
    "        self.val = x\n",
    "        self.left = None\n",
    "        self.right = None\n",
    "\n",
    "class Solution:\n",
    "    def levelOrder(self, root):\n",
    "        if not root:\n",
    "            return []\n",
    "        ret, left, right = [[root.val]], [], []\n",
    "        if root.left:\n",
    "            left = self.levelOrder(root.left)\n",
    "        if root.right:\n",
    "            right = self.levelOrder(root.right)\n",
    "        n = min(len(left), len(right))\n",
    "        for i in range(n):\n",
    "            ret.append(left[i] + right[i])\n",
    "        if len(left) >= len(right):\n",
    "            ret += left[n:]\n",
    "        else:\n",
    "            ret += right[n:]\n",
    "        return ret"
   ]
  },
  {
   "cell_type": "code",
   "execution_count": 2,
   "metadata": {},
   "outputs": [
    {
     "name": "stdout",
     "output_type": "stream",
     "text": [
      "[[3], [9, 20], [15, 7]]\n"
     ]
    }
   ],
   "source": [
    "n1 = TreeNode(3)\n",
    "n2 = TreeNode(9)\n",
    "n3 = TreeNode(20)\n",
    "n4 = TreeNode(15)\n",
    "n5 = TreeNode(7)\n",
    "\n",
    "n1.left = n2\n",
    "n1.right = n3\n",
    "n3.left = n4\n",
    "n3.right = n5\n",
    "\n",
    "print(Solution().levelOrder(n1))"
   ]
  }
 ],
 "metadata": {
  "kernelspec": {
   "display_name": "Python 3",
   "language": "python",
   "name": "python3"
  },
  "language_info": {
   "codemirror_mode": {
    "name": "ipython",
    "version": 3
   },
   "file_extension": ".py",
   "mimetype": "text/x-python",
   "name": "python",
   "nbconvert_exporter": "python",
   "pygments_lexer": "ipython3",
   "version": "3.7.4"
  }
 },
 "nbformat": 4,
 "nbformat_minor": 2
}
