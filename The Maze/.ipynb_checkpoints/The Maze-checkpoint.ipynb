{
 "cells": [
  {
   "cell_type": "markdown",
   "metadata": {},
   "source": [
    "#### https://leetcode.com/problems/the-maze"
   ]
  },
  {
   "cell_type": "code",
   "execution_count": 1,
   "metadata": {},
   "outputs": [],
   "source": [
    "class Solution:\n",
    "    def get_neighbors(self, maze, start):\n",
    "        neighbors = []\n",
    "        rows, columns = len(maze), len(maze[0])\n",
    "        directions = [(0, 1), (0, -1), (1, 0), (-1, 0)]\n",
    "        for direction in directions:\n",
    "            dx, dy = direction[0], direction[1]\n",
    "            new_x, new_y = start[0] + dx, start[1] + dy\n",
    "            while 0 <= new_x < rows and 0 <= new_y < columns and maze[new_x][new_y] == 0:\n",
    "                new_x, new_y = new_x + dx, new_y + dy\n",
    "            new_x, new_y = new_x - dx, new_y - dy\n",
    "            if [new_x, new_y] != start:\n",
    "                neighbors.append([new_x, new_y])\n",
    "        return neighbors\n",
    "        \n",
    "    def hasPath(self, maze, start, destination) -> bool:\n",
    "        queue = [start]\n",
    "        visited_set = set(tuple(start))\n",
    "        while queue:\n",
    "            node = queue.pop(0)\n",
    "            if node == destination:\n",
    "                return True\n",
    "            neighbors = self.get_neighbors(maze, node)\n",
    "            for neighbor in neighbors:\n",
    "                if tuple(neighbor) not in visited_set:\n",
    "                    visited_set.add(tuple(neighbor))\n",
    "                    queue.append(neighbor)\n",
    "        return False"
   ]
  },
  {
   "cell_type": "code",
   "execution_count": 3,
   "metadata": {},
   "outputs": [
    {
     "data": {
      "text/plain": [
       "True"
      ]
     },
     "execution_count": 3,
     "metadata": {},
     "output_type": "execute_result"
    }
   ],
   "source": [
    "maze = [[0,0,1,0,0],\\\n",
    "        [0,0,0,0,0],\\\n",
    "        [0,0,0,1,0],\\\n",
    "        [1,1,0,1,1],\\\n",
    "        [0,0,0,0,0]]\n",
    "\n",
    "Solution().hasPath(maze, [0,4], [4,4])"
   ]
  }
 ],
 "metadata": {
  "kernelspec": {
   "display_name": "Python 3",
   "language": "python",
   "name": "python3"
  },
  "language_info": {
   "codemirror_mode": {
    "name": "ipython",
    "version": 3
   },
   "file_extension": ".py",
   "mimetype": "text/x-python",
   "name": "python",
   "nbconvert_exporter": "python",
   "pygments_lexer": "ipython3",
   "version": "3.7.4"
  }
 },
 "nbformat": 4,
 "nbformat_minor": 2
}
