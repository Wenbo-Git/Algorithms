{
 "cells": [
  {
   "cell_type": "markdown",
   "metadata": {},
   "source": [
    "#### https://leetcode.com/problems/network-delay-time"
   ]
  },
  {
   "cell_type": "code",
   "execution_count": 6,
   "metadata": {},
   "outputs": [],
   "source": [
    "import math\n",
    "import heapq\n",
    "\n",
    "class Solution:\n",
    "    ### implement Dijkstra's algorithm ###\n",
    "      def networkDelayTime(self, times, N, K):\n",
    "        adj_list = {}\n",
    "        for u, v, w in times:\n",
    "            if u not in adj_list:\n",
    "                adj_list[u] = set()\n",
    "            adj_list[u].add((v, w))\n",
    "        \n",
    "        dist = {}\n",
    "        for i in range(1, N + 1):\n",
    "            dist[i] = 0 if i == K else math.inf\n",
    "            \n",
    "        seen = set()\n",
    "        pq = [(0, K)]\n",
    "        \n",
    "        while pq:\n",
    "            d, n = heapq.heappop(pq)\n",
    "            if n not in seen:\n",
    "                seen.add(n)\n",
    "                if n in adj_list:\n",
    "                    for nei, w in adj_list[n]:\n",
    "                        if nei in seen:\n",
    "                            continue\n",
    "                        new_dist = d + w\n",
    "                        if new_dist < dist[nei]: # relaxation\n",
    "                            dist[nei] = new_dist\n",
    "                            heapq.heappush(pq, (new_dist, nei))\n",
    "        \n",
    "        ret = 0\n",
    "        for n, d in dist.items():\n",
    "            if n != K and d > ret:\n",
    "                ret = d\n",
    "        if ret is math.inf:\n",
    "            ret = -1\n",
    "        return ret"
   ]
  },
  {
   "cell_type": "code",
   "execution_count": 7,
   "metadata": {},
   "outputs": [
    {
     "data": {
      "text/plain": [
       "2"
      ]
     },
     "execution_count": 7,
     "metadata": {},
     "output_type": "execute_result"
    }
   ],
   "source": [
    "Solution().networkDelayTime([[2,1,1],[2,3,1],[3,4,1]], 4, 2)"
   ]
  }
 ],
 "metadata": {
  "kernelspec": {
   "display_name": "Python 3",
   "language": "python",
   "name": "python3"
  },
  "language_info": {
   "codemirror_mode": {
    "name": "ipython",
    "version": 3
   },
   "file_extension": ".py",
   "mimetype": "text/x-python",
   "name": "python",
   "nbconvert_exporter": "python",
   "pygments_lexer": "ipython3",
   "version": "3.8.3"
  }
 },
 "nbformat": 4,
 "nbformat_minor": 2
}
