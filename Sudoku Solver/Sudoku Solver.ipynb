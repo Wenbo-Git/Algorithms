{
 "cells": [
  {
   "cell_type": "markdown",
   "metadata": {},
   "source": [
    "#### https://leetcode.com/problems/sudoku-solver"
   ]
  },
  {
   "cell_type": "code",
   "execution_count": 1,
   "metadata": {},
   "outputs": [],
   "source": [
    "class Solution:\n",
    "    def find_pos(self):\n",
    "        row, col = len(self.board), len(self.board[0])\n",
    "        for i in range(row):\n",
    "            for j in range(col):\n",
    "                if self.board[i][j] == \".\":\n",
    "                    return i, j\n",
    "        return -1, -1\n",
    "    \n",
    "    def check_row(self, val, row):\n",
    "        for i in self.board[row]:\n",
    "            if i == val:\n",
    "                return False\n",
    "        return True\n",
    "        \n",
    "    def check_column(self, val, col):\n",
    "        for row in self.board:\n",
    "            if row[col] == val:\n",
    "                return False\n",
    "        return True\n",
    "        \n",
    "    def check_square(self, val, row, col):\n",
    "        start_row = (row // 3) * 3\n",
    "        start_col = (col // 3) * 3\n",
    "        for i in range(start_row, start_row + 3):\n",
    "            for j in range(start_col, start_col + 3):\n",
    "                if self.board[i][j] == val:\n",
    "                    return False\n",
    "        return True\n",
    "    \n",
    "    def solveSudoku(self, board):\n",
    "        \"\"\"\n",
    "        Do not return anything, modify board in-place instead.\n",
    "        \"\"\"\n",
    "        self.board = board\n",
    "        self.solve()\n",
    "        \n",
    "    def solve(self):\n",
    "        row, col = self.find_pos()\n",
    "        if row == -1 and col == -1:\n",
    "            return True\n",
    "        for i in [\"1\", \"2\", \"3\", \"4\", \"5\", \"6\", \"7\", \"8\", \"9\"]:\n",
    "            if self.check_row(i, row) and self.check_column(i, col) and self.check_square(i, row, col):\n",
    "                self.board[row][col] = i\n",
    "                if self.solve():\n",
    "                    return True\n",
    "        self.board[row][col] = \".\"\n",
    "        return False"
   ]
  },
  {
   "cell_type": "code",
   "execution_count": 2,
   "metadata": {},
   "outputs": [
    {
     "name": "stdout",
     "output_type": "stream",
     "text": [
      "['5', '3', '4', '6', '7', '8', '9', '1', '2']\n",
      "['6', '7', '2', '1', '9', '5', '3', '4', '8']\n",
      "['1', '9', '8', '3', '4', '2', '5', '6', '7']\n",
      "['8', '5', '9', '7', '6', '1', '4', '2', '3']\n",
      "['4', '2', '6', '8', '5', '3', '7', '9', '1']\n",
      "['7', '1', '3', '9', '2', '4', '8', '5', '6']\n",
      "['9', '6', '1', '5', '3', '7', '2', '8', '4']\n",
      "['2', '8', '7', '4', '1', '9', '6', '3', '5']\n",
      "['3', '4', '5', '2', '8', '6', '1', '7', '9']\n"
     ]
    }
   ],
   "source": [
    "board = [[\"5\",\"3\",\".\",\".\",\"7\",\".\",\".\",\".\",\".\"],\\\n",
    "         [\"6\",\".\",\".\",\"1\",\"9\",\"5\",\".\",\".\",\".\"],\\\n",
    "         [\".\",\"9\",\"8\",\".\",\".\",\".\",\".\",\"6\",\".\"],\\\n",
    "         [\"8\",\".\",\".\",\".\",\"6\",\".\",\".\",\".\",\"3\"],\\\n",
    "         [\"4\",\".\",\".\",\"8\",\".\",\"3\",\".\",\".\",\"1\"],\\\n",
    "         [\"7\",\".\",\".\",\".\",\"2\",\".\",\".\",\".\",\"6\"],\\\n",
    "         [\".\",\"6\",\".\",\".\",\".\",\".\",\"2\",\"8\",\".\"],\\\n",
    "         [\".\",\".\",\".\",\"4\",\"1\",\"9\",\".\",\".\",\"5\"],\\\n",
    "         [\".\",\".\",\".\",\".\",\"8\",\".\",\".\",\"7\",\"9\"]]\n",
    "\n",
    "Solution().solveSudoku(board)\n",
    "\n",
    "for i in range(9):\n",
    "    print(board[i])"
   ]
  }
 ],
 "metadata": {
  "kernelspec": {
   "display_name": "Python 3",
   "language": "python",
   "name": "python3"
  },
  "language_info": {
   "codemirror_mode": {
    "name": "ipython",
    "version": 3
   },
   "file_extension": ".py",
   "mimetype": "text/x-python",
   "name": "python",
   "nbconvert_exporter": "python",
   "pygments_lexer": "ipython3",
   "version": "3.7.4"
  }
 },
 "nbformat": 4,
 "nbformat_minor": 2
}
