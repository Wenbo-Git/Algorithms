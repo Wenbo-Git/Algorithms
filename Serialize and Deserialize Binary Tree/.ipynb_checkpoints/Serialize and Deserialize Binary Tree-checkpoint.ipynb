{
 "cells": [
  {
   "cell_type": "markdown",
   "metadata": {},
   "source": [
    "#### https://leetcode.com/problems/serialize-and-deserialize-binary-tree"
   ]
  },
  {
   "cell_type": "code",
   "execution_count": 1,
   "metadata": {},
   "outputs": [],
   "source": [
    "class TreeNode(object):\n",
    "    def __init__(self, x):\n",
    "        self.val = x\n",
    "        self.left = None\n",
    "        self.right = None\n",
    "\n",
    "class ListNode(object):\n",
    "    def __init__(self, x):\n",
    "        self.val = x\n",
    "        self.next = None\n",
    "\n",
    "class Codec:\n",
    "    def serialize(self, root):\n",
    "        \"\"\"Encodes a tree to a single string.\n",
    "        :type root: TreeNode\n",
    "        :rtype: str\n",
    "        \"\"\"\n",
    "        ret = []\n",
    "        def preorder(root):\n",
    "            if not root:\n",
    "                ret.append(\"*\")\n",
    "            else:\n",
    "                ret.append(str(root.val))\n",
    "                preorder(root.left)\n",
    "                preorder(root.right)\n",
    "        preorder(root)\n",
    "        return ret\n",
    "        \n",
    "    def deserialize(self, data):\n",
    "        \"\"\"Decodes your encoded data to tree.\n",
    "        :type data: str\n",
    "        :rtype: TreeNode\n",
    "        \"\"\"\n",
    "        node = ListNode(data[0])\n",
    "        node_1 = node\n",
    "        node_2 = node\n",
    "        for i in range(1, len(data)):\n",
    "            node_1.next = ListNode(data[i])\n",
    "            node_1 = node_1.next\n",
    "        def preorder():\n",
    "            nonlocal node_2\n",
    "            val = node_2.val\n",
    "            node_2 = node_2.next\n",
    "            if val == \"*\":\n",
    "                return None\n",
    "            else:\n",
    "                root = TreeNode(int(val))\n",
    "                root.left = preorder()\n",
    "                root.right = preorder()\n",
    "                return root\n",
    "        return preorder()"
   ]
  },
  {
   "cell_type": "code",
   "execution_count": 4,
   "metadata": {},
   "outputs": [
    {
     "name": "stdout",
     "output_type": "stream",
     "text": [
      "['1', '2', '*', '*', '3', '4', '*', '*', '5', '*', '*']\n",
      "1\n",
      "2\n",
      "3\n",
      "4\n",
      "5\n"
     ]
    }
   ],
   "source": [
    "n1 = TreeNode(1)\n",
    "n2 = TreeNode(2)\n",
    "n3 = TreeNode(3)\n",
    "n4 = TreeNode(4)\n",
    "n5 = TreeNode(5)\n",
    "\n",
    "n1.left = n2\n",
    "n1.right = n3\n",
    "n3.left = n4\n",
    "n3.right = n5\n",
    "\n",
    "c = Codec()\n",
    "d = c.serialize(n1)\n",
    "print(d)\n",
    "ret = c.deserialize(d)\n",
    "print(ret.val)\n",
    "print(ret.left.val)\n",
    "print(ret.right.val)\n",
    "print(ret.right.left.val)\n",
    "print(ret.right.right.val)"
   ]
  }
 ],
 "metadata": {
  "kernelspec": {
   "display_name": "Python 3",
   "language": "python",
   "name": "python3"
  },
  "language_info": {
   "codemirror_mode": {
    "name": "ipython",
    "version": 3
   },
   "file_extension": ".py",
   "mimetype": "text/x-python",
   "name": "python",
   "nbconvert_exporter": "python",
   "pygments_lexer": "ipython3",
   "version": "3.7.4"
  }
 },
 "nbformat": 4,
 "nbformat_minor": 2
}
