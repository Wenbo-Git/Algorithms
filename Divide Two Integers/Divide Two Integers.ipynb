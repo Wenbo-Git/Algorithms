{
 "cells": [
  {
   "cell_type": "markdown",
   "metadata": {},
   "source": [
    "#### https://leetcode.com/problems/divide-two-integers"
   ]
  },
  {
   "cell_type": "code",
   "execution_count": 1,
   "metadata": {},
   "outputs": [],
   "source": [
    "import math\n",
    "class Solution:\n",
    "    def divide(self, dividend: int, divisor: int) -> int:\n",
    "        if dividend == 0:\n",
    "            q = 0\n",
    "        elif divisor == 1:\n",
    "            q = dividend\n",
    "        elif divisor == -1:\n",
    "            q = 0 - dividend\n",
    "        else:\n",
    "            a, b = abs(dividend), abs(divisor)\n",
    "            q = math.floor(math.exp(math.log(a) - math.log(b)))\n",
    "            if (dividend > 0 and divisor < 0) or (dividend < 0 and divisor > 0):\n",
    "                q = 0 - q\n",
    "        return min(q, (2**31-1))"
   ]
  },
  {
   "cell_type": "code",
   "execution_count": 2,
   "metadata": {},
   "outputs": [
    {
     "name": "stdout",
     "output_type": "stream",
     "text": [
      "-2\n"
     ]
    }
   ],
   "source": [
    "print(Solution().divide(7, -3))"
   ]
  }
 ],
 "metadata": {
  "kernelspec": {
   "display_name": "Python 3",
   "language": "python",
   "name": "python3"
  },
  "language_info": {
   "codemirror_mode": {
    "name": "ipython",
    "version": 3
   },
   "file_extension": ".py",
   "mimetype": "text/x-python",
   "name": "python",
   "nbconvert_exporter": "python",
   "pygments_lexer": "ipython3",
   "version": "3.7.4"
  }
 },
 "nbformat": 4,
 "nbformat_minor": 2
}
