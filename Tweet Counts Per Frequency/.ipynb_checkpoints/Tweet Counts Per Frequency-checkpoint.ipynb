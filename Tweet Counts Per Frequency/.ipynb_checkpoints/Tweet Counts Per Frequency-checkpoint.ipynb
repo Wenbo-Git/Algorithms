{
 "cells": [
  {
   "cell_type": "markdown",
   "metadata": {},
   "source": [
    "#### https://leetcode.com/problems/tweet-counts-per-frequency"
   ]
  },
  {
   "cell_type": "code",
   "execution_count": 3,
   "metadata": {},
   "outputs": [],
   "source": [
    "import math\n",
    "class TweetCounts:\n",
    "    def __init__(self):\n",
    "        self.d = {}\n",
    "\n",
    "    def recordTweet(self, tweetName: str, time: int) -> None:\n",
    "        if tweetName not in self.d:\n",
    "            self.d[tweetName] = [time]\n",
    "        else:\n",
    "            self.d[tweetName].append(time)\n",
    "\n",
    "    def getTweetCountsPerFrequency(self, freq: str, tweetName: str, startTime: int, endTime: int):\n",
    "        times = self.d[tweetName]\n",
    "        times.sort()\n",
    "        f = 0\n",
    "        if freq == \"minute\":\n",
    "            f = 60\n",
    "        elif freq == \"hour\":\n",
    "            f = 3600\n",
    "        elif freq == \"day\":\n",
    "            f = 3600 * 24\n",
    "        intervals = math.ceil((endTime - startTime + 1) / f)\n",
    "        ret = [0] * intervals\n",
    "        for t in times:\n",
    "            if startTime <= t <= endTime:\n",
    "                ret[((t - startTime) // f)] += 1\n",
    "        return ret"
   ]
  },
  {
   "cell_type": "code",
   "execution_count": 6,
   "metadata": {},
   "outputs": [
    {
     "name": "stdout",
     "output_type": "stream",
     "text": [
      "[2]\n",
      "[2, 1]\n",
      "[4]\n"
     ]
    }
   ],
   "source": [
    "t = TweetCounts()\n",
    "t.recordTweet(\"tweet3\",0)\n",
    "t.recordTweet(\"tweet3\",60)\n",
    "t.recordTweet(\"tweet3\",10)\n",
    "print(t.getTweetCountsPerFrequency(\"minute\",\"tweet3\",0,59))\n",
    "print(t.getTweetCountsPerFrequency(\"minute\",\"tweet3\",0,60))\n",
    "t.recordTweet(\"tweet3\",120)\n",
    "print(t.getTweetCountsPerFrequency(\"hour\",\"tweet3\",0,210))"
   ]
  }
 ],
 "metadata": {
  "kernelspec": {
   "display_name": "Python 3",
   "language": "python",
   "name": "python3"
  },
  "language_info": {
   "codemirror_mode": {
    "name": "ipython",
    "version": 3
   },
   "file_extension": ".py",
   "mimetype": "text/x-python",
   "name": "python",
   "nbconvert_exporter": "python",
   "pygments_lexer": "ipython3",
   "version": "3.7.4"
  }
 },
 "nbformat": 4,
 "nbformat_minor": 2
}
