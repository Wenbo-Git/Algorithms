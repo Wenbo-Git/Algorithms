{
 "cells": [
  {
   "cell_type": "markdown",
   "metadata": {},
   "source": [
    "#### https://leetcode.com/problems/merge-sorted-array"
   ]
  },
  {
   "cell_type": "code",
   "execution_count": 1,
   "metadata": {},
   "outputs": [],
   "source": [
    "class Solution(object):\n",
    "    def merge(self, nums1, m, nums2, n):\n",
    "        nums0 = nums1[0:m]\n",
    "        ret = []\n",
    "        while (True):\n",
    "            if len(ret) == (m + n):\n",
    "                for i in range(len(nums1)):\n",
    "                    nums1[i] = ret[i]\n",
    "                break\n",
    "            elif len(nums0) == 0:\n",
    "                ret.extend(nums2)\n",
    "            elif len(nums2) == 0:\n",
    "                ret.extend(nums0)\n",
    "            else:\n",
    "                n1 = nums0[0]\n",
    "                n2 = nums2[0]\n",
    "                if n1 <= n2:\n",
    "                    ret.append(n1)\n",
    "                    nums0 = nums0[1:]\n",
    "                else:\n",
    "                    ret.append(n2)\n",
    "                    nums2 = nums2[1:]"
   ]
  },
  {
   "cell_type": "code",
   "execution_count": 4,
   "metadata": {},
   "outputs": [
    {
     "name": "stdout",
     "output_type": "stream",
     "text": [
      "[1, 2, 2, 3, 5, 6]\n"
     ]
    }
   ],
   "source": [
    "nums1, nums2 = [1,2,3,0,0,0], [2,5,6]\n",
    "Solution().merge(nums1, 3, nums2, 3)\n",
    "print(nums1)"
   ]
  }
 ],
 "metadata": {
  "kernelspec": {
   "display_name": "Python 3",
   "language": "python",
   "name": "python3"
  },
  "language_info": {
   "codemirror_mode": {
    "name": "ipython",
    "version": 3
   },
   "file_extension": ".py",
   "mimetype": "text/x-python",
   "name": "python",
   "nbconvert_exporter": "python",
   "pygments_lexer": "ipython3",
   "version": "3.7.4"
  }
 },
 "nbformat": 4,
 "nbformat_minor": 2
}
