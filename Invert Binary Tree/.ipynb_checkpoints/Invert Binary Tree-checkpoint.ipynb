{
 "cells": [
  {
   "cell_type": "markdown",
   "metadata": {},
   "source": [
    "#### https://leetcode.com/problems/invert-binary-tree"
   ]
  },
  {
   "cell_type": "code",
   "execution_count": 1,
   "metadata": {},
   "outputs": [],
   "source": [
    "class TreeNode:\n",
    "    def __init__(self, x):\n",
    "        self.val = x\n",
    "        self.left = None\n",
    "        self.right = None\n",
    "\n",
    "class Solution:\n",
    "    def invertTree(self, root: TreeNode) -> TreeNode:\n",
    "        if not root:\n",
    "            return None\n",
    "        if root.left:\n",
    "            root.left = self.invertTree(root.left)\n",
    "        if root.right:\n",
    "            root.right = self.invertTree(root.right)\n",
    "        tmp = root.left\n",
    "        root.left = root.right\n",
    "        root.right = tmp\n",
    "        return root"
   ]
  },
  {
   "cell_type": "code",
   "execution_count": 2,
   "metadata": {},
   "outputs": [
    {
     "name": "stdout",
     "output_type": "stream",
     "text": [
      "4\n",
      "7\n",
      "2\n",
      "9\n",
      "6\n",
      "3\n",
      "1\n"
     ]
    }
   ],
   "source": [
    "n1 = TreeNode(4)\n",
    "n2 = TreeNode(2)\n",
    "n3 = TreeNode(7)\n",
    "n4 = TreeNode(1)\n",
    "n5 = TreeNode(3)\n",
    "n6 = TreeNode(6)\n",
    "n7 = TreeNode(9)\n",
    "\n",
    "n1.left, n1.right = n2, n3\n",
    "n2.left, n2.right = n4, n5\n",
    "n3.left, n3.right = n6, n7\n",
    "\n",
    "c1 = Solution().invertTree(n1)\n",
    "c2 = c1.left\n",
    "c3 = c1.right\n",
    "c4 = c2.left\n",
    "c5 = c2.right\n",
    "c6 = c3.left\n",
    "c7 = c3.right\n",
    "\n",
    "print(c1.val)\n",
    "print(c2.val)\n",
    "print(c3.val)\n",
    "print(c4.val)\n",
    "print(c5.val)\n",
    "print(c6.val)\n",
    "print(c7.val)"
   ]
  }
 ],
 "metadata": {
  "kernelspec": {
   "display_name": "Python 3",
   "language": "python",
   "name": "python3"
  },
  "language_info": {
   "codemirror_mode": {
    "name": "ipython",
    "version": 3
   },
   "file_extension": ".py",
   "mimetype": "text/x-python",
   "name": "python",
   "nbconvert_exporter": "python",
   "pygments_lexer": "ipython3",
   "version": "3.7.4"
  }
 },
 "nbformat": 4,
 "nbformat_minor": 2
}
