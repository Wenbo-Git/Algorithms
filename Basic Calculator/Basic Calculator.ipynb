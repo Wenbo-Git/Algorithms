{
 "cells": [
  {
   "cell_type": "markdown",
   "metadata": {},
   "source": [
    "#### https://leetcode.com/problems/basic-calculator"
   ]
  },
  {
   "cell_type": "code",
   "execution_count": 1,
   "metadata": {},
   "outputs": [],
   "source": [
    "def calculate(s):\n",
    "    s = s.replace(\" \", \"\")\n",
    "    n = len(s)\n",
    "    stack = []\n",
    "    i = 0\n",
    "    res = 0\n",
    "    op = \"+\"\n",
    "    while i != n: \n",
    "        if s[i] == \"(\":\n",
    "            stack.append(s[i])\n",
    "            i += 1\n",
    "            while i != n and s[i] != \")\":\n",
    "                stack.append(s[i])\n",
    "                i += 1\n",
    "        elif s[i] == \")\":\n",
    "            sub_s = \"\"\n",
    "            while stack[-1] != \"(\":\n",
    "                sub_s = stack.pop() + sub_s\n",
    "            if stack[-1] == \"(\":\n",
    "                stack.pop()\n",
    "            stack.append(str(self.calculate(\"\".join(sub_s))))\n",
    "            if len(stack) == 1:\n",
    "                if op == \"+\":\n",
    "                    res += int(stack.pop())\n",
    "                else:\n",
    "                    res -= int(stack.pop())\n",
    "                i += 1\n",
    "            else:\n",
    "                i += 1\n",
    "                while i != n and s[i] != \")\":\n",
    "                    stack.append(s[i])\n",
    "                    i += 1\n",
    "        elif s[i] == \"+\":\n",
    "            if s[i+1] == \"-\":\n",
    "                op = \"-\"\n",
    "                i += 1\n",
    "            else:\n",
    "                op = \"+\"\n",
    "            i += 1\n",
    "        elif s[i] == \"-\":\n",
    "            if s[i+1] == \"-\":\n",
    "                op = \"+\"\n",
    "                i += 1\n",
    "            else:\n",
    "                op = \"-\"\n",
    "            i += 1\n",
    "        else:\n",
    "            num = \"\"\n",
    "            while i < n and s[i] not in [\"(\", \")\", \"+\", \"-\"]:\n",
    "                num += s[i]\n",
    "                i += 1\n",
    "            if op == \"+\":\n",
    "                res += int(num)\n",
    "            else:\n",
    "                res -= int(num)\n",
    "    return res"
   ]
  },
  {
   "cell_type": "code",
   "execution_count": 2,
   "metadata": {},
   "outputs": [
    {
     "name": "stdout",
     "output_type": "stream",
     "text": [
      "2\n"
     ]
    }
   ],
   "source": [
    "print(calculate(\"1 + 1\"))"
   ]
  }
 ],
 "metadata": {
  "kernelspec": {
   "display_name": "Python 3",
   "language": "python",
   "name": "python3"
  },
  "language_info": {
   "codemirror_mode": {
    "name": "ipython",
    "version": 3
   },
   "file_extension": ".py",
   "mimetype": "text/x-python",
   "name": "python",
   "nbconvert_exporter": "python",
   "pygments_lexer": "ipython3",
   "version": "3.7.4"
  }
 },
 "nbformat": 4,
 "nbformat_minor": 2
}
