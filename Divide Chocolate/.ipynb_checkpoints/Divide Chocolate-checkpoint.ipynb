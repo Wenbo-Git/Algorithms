{
 "cells": [
  {
   "cell_type": "markdown",
   "metadata": {},
   "source": [
    "#### https://leetcode.com/problems/divide-chocolate"
   ]
  },
  {
   "cell_type": "code",
   "execution_count": 2,
   "metadata": {},
   "outputs": [],
   "source": [
    "class Solution:\n",
    "    def maximizeSweetness(self, sweetness, K: int) -> int:\n",
    "        K += 1\n",
    "        low, high = min(sweetness), sum(sweetness)\n",
    "        \n",
    "        def divide(target, K):\n",
    "            count = 0 \n",
    "            sum_ = 0\n",
    "            for num in sweetness:\n",
    "                sum_ += num\n",
    "                if sum_ > target:\n",
    "                    count += 1\n",
    "                    sum_ = 0 \n",
    "            return count\n",
    "        \n",
    "        while low <= high:\n",
    "            mid = low + (high - low)//2\n",
    "            if divide(mid, K) >= K: # search in the upper half\n",
    "                low = mid + 1\n",
    "            else: # search in the lower half \n",
    "                high = mid - 1\n",
    "        return low"
   ]
  },
  {
   "cell_type": "code",
   "execution_count": 4,
   "metadata": {},
   "outputs": [
    {
     "name": "stdout",
     "output_type": "stream",
     "text": [
      "6\n"
     ]
    }
   ],
   "source": [
    "print(Solution().maximizeSweetness([1,2,3,4,5,6,7,8,9], 5))"
   ]
  }
 ],
 "metadata": {
  "kernelspec": {
   "display_name": "Python 3",
   "language": "python",
   "name": "python3"
  },
  "language_info": {
   "codemirror_mode": {
    "name": "ipython",
    "version": 3
   },
   "file_extension": ".py",
   "mimetype": "text/x-python",
   "name": "python",
   "nbconvert_exporter": "python",
   "pygments_lexer": "ipython3",
   "version": "3.7.4"
  }
 },
 "nbformat": 4,
 "nbformat_minor": 2
}
