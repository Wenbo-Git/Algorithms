{
 "cells": [
  {
   "cell_type": "markdown",
   "metadata": {},
   "source": [
    "#### https://leetcode.com/problems/closest-binary-search-tree-value-ii"
   ]
  },
  {
   "cell_type": "code",
   "execution_count": 1,
   "metadata": {},
   "outputs": [],
   "source": [
    "class TreeNode:\n",
    "    def __init__(self, x):\n",
    "        self.val = x\n",
    "        self.left = None\n",
    "        self.right = None\n",
    "\n",
    "class Solution:\n",
    "    def closestKValues(self, root: TreeNode, target: float, k: int):\n",
    "        diff = []\n",
    "        def inorder_traversal(root, target):\n",
    "            if root:\n",
    "                inorder_traversal(root.left, target)\n",
    "                diff.append((root.val, abs(root.val - target)))\n",
    "                inorder_traversal(root.right, target)\n",
    "        inorder_traversal(root, target)\n",
    "        diff.sort(key = lambda x: x[1])\n",
    "        ret = []\n",
    "        for i in range(0, k):\n",
    "            ret.append(diff[i][0])\n",
    "        return ret"
   ]
  },
  {
   "cell_type": "code",
   "execution_count": 2,
   "metadata": {},
   "outputs": [
    {
     "name": "stdout",
     "output_type": "stream",
     "text": [
      "[4, 3]\n"
     ]
    }
   ],
   "source": [
    "n1 = TreeNode(4)\n",
    "n2 = TreeNode(2)\n",
    "n3 = TreeNode(5)\n",
    "n4 = TreeNode(1)\n",
    "n5 = TreeNode(3)\n",
    "\n",
    "n1.left = n2\n",
    "n1.right = n3\n",
    "n2.left = n4\n",
    "n2.right = n5\n",
    "\n",
    "print(Solution().closestKValues(n1, 3.714286, 2))"
   ]
  }
 ],
 "metadata": {
  "kernelspec": {
   "display_name": "Python 3",
   "language": "python",
   "name": "python3"
  },
  "language_info": {
   "codemirror_mode": {
    "name": "ipython",
    "version": 3
   },
   "file_extension": ".py",
   "mimetype": "text/x-python",
   "name": "python",
   "nbconvert_exporter": "python",
   "pygments_lexer": "ipython3",
   "version": "3.7.4"
  }
 },
 "nbformat": 4,
 "nbformat_minor": 2
}
