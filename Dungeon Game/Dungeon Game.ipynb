{
 "cells": [
  {
   "cell_type": "markdown",
   "metadata": {},
   "source": [
    "#### https://leetcode.com/problems/dungeon-game"
   ]
  },
  {
   "cell_type": "code",
   "execution_count": 1,
   "metadata": {},
   "outputs": [],
   "source": [
    "class Solution:\n",
    "    def calculateMinimumHP(self, dungeon) -> int:\n",
    "        m,n = len(dungeon),len(dungeon[0])\n",
    "        memo = {(m-1,n-1) : max(1,1-dungeon[m-1][n-1])}\n",
    "        def compute_health(x, y):\n",
    "            if x>=m or y>=n:\n",
    "                return float(\"inf\")\n",
    "            if (x,y) not in memo:\n",
    "                memo[(x,y)] = max(1,min(compute_health(x+1,y), compute_health(x,y+1))-dungeon[x][y])\n",
    "            return memo[(x,y)]\n",
    "        return compute_health(0,0)"
   ]
  },
  {
   "cell_type": "code",
   "execution_count": 2,
   "metadata": {},
   "outputs": [
    {
     "name": "stdout",
     "output_type": "stream",
     "text": [
      "7\n"
     ]
    }
   ],
   "source": [
    "print(Solution().calculateMinimumHP([[-2,-3,3],[-5,-10,1],[10,30,-5]]))"
   ]
  }
 ],
 "metadata": {
  "kernelspec": {
   "display_name": "Python 3",
   "language": "python",
   "name": "python3"
  },
  "language_info": {
   "codemirror_mode": {
    "name": "ipython",
    "version": 3
   },
   "file_extension": ".py",
   "mimetype": "text/x-python",
   "name": "python",
   "nbconvert_exporter": "python",
   "pygments_lexer": "ipython3",
   "version": "3.7.4"
  }
 },
 "nbformat": 4,
 "nbformat_minor": 2
}
