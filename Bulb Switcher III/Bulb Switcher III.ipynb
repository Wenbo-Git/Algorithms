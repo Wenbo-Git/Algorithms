{
 "cells": [
  {
   "cell_type": "markdown",
   "metadata": {},
   "source": [
    "#### https://leetcode.com/problems/bulb-switcher-iii"
   ]
  },
  {
   "cell_type": "code",
   "execution_count": 1,
   "metadata": {},
   "outputs": [],
   "source": [
    "class Solution:\n",
    "    def numTimesAllBlue(self, light):\n",
    "        count = 0\n",
    "        right_most = 0\n",
    "        bulbs_on = []\n",
    "        for i in range(len(light)):\n",
    "            bulbs_on.append(light[i])\n",
    "            right_most = max(right_most, light[i])\n",
    "            if len(bulbs_on) == right_most:\n",
    "                count += 1\n",
    "        return count\n",
    "    \n",
    "    # The following solution causes TLE\n",
    "    '''\n",
    "    def numTimesAllBlue(self, light):\n",
    "        count = 0\n",
    "        n = len(light)\n",
    "        bulbs = [0] * (n + 1)\n",
    "        for i in range(n):\n",
    "            idx = light[i]\n",
    "            bulbs[idx] = 1\n",
    "            prev_all_on = True\n",
    "            if idx > 1:\n",
    "                for j in range(1, idx):\n",
    "                    if bulbs[j] == 0:\n",
    "                        prev_all_on = False\n",
    "                        break\n",
    "            if prev_all_on:\n",
    "                for k in range(1, idx + 1):\n",
    "                    bulbs[k] = 2\n",
    "                if idx < n:\n",
    "                    h = idx + 1\n",
    "                    while h <= n and bulbs[h] != 0:\n",
    "                        bulbs[h] = 2\n",
    "                        h += 1\n",
    "            if all(bulbs[i] != 1 for i in range(1, n + 1)):\n",
    "                count += 1\n",
    "        return count\n",
    "    '''"
   ]
  },
  {
   "cell_type": "code",
   "execution_count": 2,
   "metadata": {},
   "outputs": [
    {
     "data": {
      "text/plain": [
       "3"
      ]
     },
     "execution_count": 2,
     "metadata": {},
     "output_type": "execute_result"
    }
   ],
   "source": [
    "Solution().numTimesAllBlue([2,1,3,5,4])"
   ]
  }
 ],
 "metadata": {
  "kernelspec": {
   "display_name": "Python 3",
   "language": "python",
   "name": "python3"
  },
  "language_info": {
   "codemirror_mode": {
    "name": "ipython",
    "version": 3
   },
   "file_extension": ".py",
   "mimetype": "text/x-python",
   "name": "python",
   "nbconvert_exporter": "python",
   "pygments_lexer": "ipython3",
   "version": "3.7.4"
  }
 },
 "nbformat": 4,
 "nbformat_minor": 2
}
