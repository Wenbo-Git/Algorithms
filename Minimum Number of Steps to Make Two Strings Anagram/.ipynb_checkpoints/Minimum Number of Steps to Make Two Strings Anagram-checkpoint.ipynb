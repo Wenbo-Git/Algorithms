{
 "cells": [
  {
   "cell_type": "markdown",
   "metadata": {},
   "source": [
    "#### https://leetcode.com/problems/minimum-number-of-steps-to-make-two-strings-anagram"
   ]
  },
  {
   "cell_type": "code",
   "execution_count": 1,
   "metadata": {},
   "outputs": [],
   "source": [
    "import string\n",
    "class Solution:\n",
    "    def minSteps(self, s: str, t: str) -> int:\n",
    "        d = dict(zip(string.ascii_lowercase, [0]*26))\n",
    "        for ss in s:\n",
    "            if ss in d:\n",
    "                d[ss] += 1\n",
    "        for tt in t:\n",
    "            if tt in d:\n",
    "                d[tt] -= 1\n",
    "        count = 0\n",
    "        for key in d:\n",
    "            if d[key] > 0:\n",
    "                count += d[key]\n",
    "        return count"
   ]
  },
  {
   "cell_type": "code",
   "execution_count": 2,
   "metadata": {},
   "outputs": [
    {
     "data": {
      "text/plain": [
       "1"
      ]
     },
     "execution_count": 2,
     "metadata": {},
     "output_type": "execute_result"
    }
   ],
   "source": [
    "Solution().minSteps(\"bab\", \"aba\")"
   ]
  }
 ],
 "metadata": {
  "kernelspec": {
   "display_name": "Python 3",
   "language": "python",
   "name": "python3"
  },
  "language_info": {
   "codemirror_mode": {
    "name": "ipython",
    "version": 3
   },
   "file_extension": ".py",
   "mimetype": "text/x-python",
   "name": "python",
   "nbconvert_exporter": "python",
   "pygments_lexer": "ipython3",
   "version": "3.7.4"
  }
 },
 "nbformat": 4,
 "nbformat_minor": 2
}
