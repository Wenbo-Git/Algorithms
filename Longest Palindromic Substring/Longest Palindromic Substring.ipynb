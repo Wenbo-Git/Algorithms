{
 "cells": [
  {
   "cell_type": "markdown",
   "metadata": {},
   "source": [
    "#### https://leetcode.com/problems/longest-palindromic-substring"
   ]
  },
  {
   "cell_type": "code",
   "execution_count": 1,
   "metadata": {},
   "outputs": [],
   "source": [
    "class Solution:\n",
    "    def longestPalindrome(self, s):\n",
    "        res = \"\"\n",
    "        for i in range(len(s)):\n",
    "            # odd case, like \"aba\"\n",
    "            tmp = self.helper(s, i, i)\n",
    "            if len(tmp) > len(res):\n",
    "                res = tmp\n",
    "            # even case, like \"abba\"\n",
    "            tmp = self.helper(s, i, i+1)\n",
    "            if len(tmp) > len(res):\n",
    "                res = tmp\n",
    "        return res\n",
    "\n",
    "    # get the longest palindrome, l, r are the middle indexes   \n",
    "    # from inner to outer\n",
    "    def helper(self, s, l, r):\n",
    "        while l >= 0 and r < len(s) and s[l] == s[r]:\n",
    "            l -= 1; r += 1\n",
    "        return s[l+1:r]"
   ]
  },
  {
   "cell_type": "code",
   "execution_count": 2,
   "metadata": {},
   "outputs": [
    {
     "data": {
      "text/plain": [
       "'bab'"
      ]
     },
     "execution_count": 2,
     "metadata": {},
     "output_type": "execute_result"
    }
   ],
   "source": [
    "Solution().longestPalindrome(\"babad\")"
   ]
  }
 ],
 "metadata": {
  "kernelspec": {
   "display_name": "Python 3",
   "language": "python",
   "name": "python3"
  },
  "language_info": {
   "codemirror_mode": {
    "name": "ipython",
    "version": 3
   },
   "file_extension": ".py",
   "mimetype": "text/x-python",
   "name": "python",
   "nbconvert_exporter": "python",
   "pygments_lexer": "ipython3",
   "version": "3.7.4"
  }
 },
 "nbformat": 4,
 "nbformat_minor": 2
}
