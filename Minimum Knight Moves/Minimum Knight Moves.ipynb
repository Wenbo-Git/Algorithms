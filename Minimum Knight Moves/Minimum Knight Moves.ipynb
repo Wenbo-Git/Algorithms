{
 "cells": [
  {
   "cell_type": "markdown",
   "metadata": {},
   "source": [
    "#### https://leetcode.com/problems/minimum-knight-moves"
   ]
  },
  {
   "cell_type": "code",
   "execution_count": 1,
   "metadata": {},
   "outputs": [],
   "source": [
    "class Solution:\n",
    "    def minKnightMoves(self, x: int, y: int) -> int:\n",
    "        x, y = abs(x), abs(y)\n",
    "        directions = [(2,1), (2,-1), (-2,1), (-2,-1), (1,2), (1,-2), (-1,2), (-1,-2)]\n",
    "        queue = [(0,0,0)]\n",
    "        visited_set = set()\n",
    "        while queue:\n",
    "            curr_x, curr_y, d = queue.pop(0)\n",
    "            if curr_x == x and curr_y == y:\n",
    "                return d\n",
    "            for direction in directions:\n",
    "                new_x, new_y = curr_x + direction[0], curr_y + direction[1]\n",
    "                if (new_x, new_y) not in visited_set and new_x >= -1 and new_y >= -1:\n",
    "                    visited_set.add((new_x, new_y))\n",
    "                    queue.append((new_x, new_y, d + 1))"
   ]
  },
  {
   "cell_type": "code",
   "execution_count": 2,
   "metadata": {},
   "outputs": [
    {
     "data": {
      "text/plain": [
       "1"
      ]
     },
     "execution_count": 2,
     "metadata": {},
     "output_type": "execute_result"
    }
   ],
   "source": [
    "Solution().minKnightMoves(2, 1)"
   ]
  }
 ],
 "metadata": {
  "kernelspec": {
   "display_name": "Python 3",
   "language": "python",
   "name": "python3"
  },
  "language_info": {
   "codemirror_mode": {
    "name": "ipython",
    "version": 3
   },
   "file_extension": ".py",
   "mimetype": "text/x-python",
   "name": "python",
   "nbconvert_exporter": "python",
   "pygments_lexer": "ipython3",
   "version": "3.7.4"
  }
 },
 "nbformat": 4,
 "nbformat_minor": 2
}
