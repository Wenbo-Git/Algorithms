{
 "cells": [
  {
   "cell_type": "markdown",
   "metadata": {},
   "source": [
    "#### https://leetcode.com/problems/unique-paths-ii"
   ]
  },
  {
   "cell_type": "code",
   "execution_count": 3,
   "metadata": {},
   "outputs": [],
   "source": [
    "class Solution:\n",
    "    def uniquePathsWithObstacles(self, obstacleGrid):\n",
    "        if not obstacleGrid:\n",
    "            return 0\n",
    "        m , n = len(obstacleGrid), len(obstacleGrid[0])\n",
    "        dp = [[0] * n for _ in range(m)]\n",
    "        for i in range(m - 1, - 1, -1):\n",
    "            for j in range(n - 1, -1, -1):\n",
    "                if obstacleGrid[i][j] != 1:\n",
    "                    if i == m - 1 and j == n - 1:\n",
    "                        dp[i][j] = 1\n",
    "                    elif i == m - 1:\n",
    "                        if obstacleGrid[i][j + 1] != 1:\n",
    "                            dp[i][j] = dp[i][j + 1]\n",
    "                    elif j == n - 1:\n",
    "                        if obstacleGrid[i + 1][j] != 1:\n",
    "                            dp[i][j] = dp[i + 1][j]\n",
    "                    elif obstacleGrid[i][j + 1] == 1:\n",
    "                        dp[i][j] = dp[i + 1][j]\n",
    "                    elif obstacleGrid[i + 1][j] == 1:\n",
    "                        dp[i][j] = dp[i][j + 1]\n",
    "                    else:\n",
    "                        dp[i][j] = dp[i + 1][j] + dp[i][j + 1]\n",
    "        return dp[0][0]"
   ]
  },
  {
   "cell_type": "code",
   "execution_count": 4,
   "metadata": {},
   "outputs": [
    {
     "data": {
      "text/plain": [
       "2"
      ]
     },
     "execution_count": 4,
     "metadata": {},
     "output_type": "execute_result"
    }
   ],
   "source": [
    "Solution().uniquePathsWithObstacles([[0,0,0],[0,1,0],[0,0,0]])"
   ]
  }
 ],
 "metadata": {
  "kernelspec": {
   "display_name": "Python 3",
   "language": "python",
   "name": "python3"
  },
  "language_info": {
   "codemirror_mode": {
    "name": "ipython",
    "version": 3
   },
   "file_extension": ".py",
   "mimetype": "text/x-python",
   "name": "python",
   "nbconvert_exporter": "python",
   "pygments_lexer": "ipython3",
   "version": "3.7.4"
  }
 },
 "nbformat": 4,
 "nbformat_minor": 2
}
