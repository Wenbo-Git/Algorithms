{
 "cells": [
  {
   "cell_type": "markdown",
   "metadata": {},
   "source": [
    "#### https://leetcode.com/problems/spiral-matrix"
   ]
  },
  {
   "cell_type": "code",
   "execution_count": 1,
   "metadata": {},
   "outputs": [],
   "source": [
    "class Solution(object):\n",
    "    def spiralOrder(self, matrix):\n",
    "        \"\"\"\n",
    "        :type matrix: List[List[int]]\n",
    "        :rtype: List[int]\n",
    "        \"\"\"\n",
    "        ret = []\n",
    "        \n",
    "        m = len(matrix)\n",
    "        if m == 0:\n",
    "            return []\n",
    "        elif m == 1:\n",
    "            return matrix[0]\n",
    "        \n",
    "        n = len(matrix[0])\n",
    "        if n == 0:\n",
    "            return []\n",
    "        elif n == 1:\n",
    "            for i in range(0, m, 1):\n",
    "                ret.append(matrix[i][0])\n",
    "            return ret\n",
    "        \n",
    "        for i in range(0, m - 1, 1):\n",
    "            if i == 0:\n",
    "                for j in range(n):\n",
    "                    ret.append(matrix[i][j])\n",
    "            else:\n",
    "                ret.append(matrix[i][n - 1])\n",
    "        \n",
    "        for i in range(m - 1, 0, -1):\n",
    "            if i == (m - 1):\n",
    "                for j in range(n - 1, -1, -1):\n",
    "                    ret.append(matrix[i][j])\n",
    "            else:\n",
    "                ret.append(matrix[i][0])\n",
    "        \n",
    "        sub_matrix = []\n",
    "        for i in range(1, m - 1, 1):\n",
    "            sub_matrix.append([])\n",
    "            for j in range(1, n - 1, 1):\n",
    "                sub_matrix[i - 1].append(matrix[i][j])\n",
    "        \n",
    "        return ret + self.spiralOrder(sub_matrix)"
   ]
  },
  {
   "cell_type": "code",
   "execution_count": 2,
   "metadata": {},
   "outputs": [
    {
     "data": {
      "text/plain": [
       "[1, 2, 3, 6, 9, 8, 7, 4, 5]"
      ]
     },
     "execution_count": 2,
     "metadata": {},
     "output_type": "execute_result"
    }
   ],
   "source": [
    "Solution().spiralOrder([[1,2,3],[4,5,6],[7,8,9]])"
   ]
  }
 ],
 "metadata": {
  "kernelspec": {
   "display_name": "Python 3",
   "language": "python",
   "name": "python3"
  },
  "language_info": {
   "codemirror_mode": {
    "name": "ipython",
    "version": 3
   },
   "file_extension": ".py",
   "mimetype": "text/x-python",
   "name": "python",
   "nbconvert_exporter": "python",
   "pygments_lexer": "ipython3",
   "version": "3.7.4"
  }
 },
 "nbformat": 4,
 "nbformat_minor": 2
}
